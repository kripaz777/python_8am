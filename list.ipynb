{
 "cells": [
  {
   "cell_type": "code",
   "execution_count": 1,
   "id": "8d3a9798",
   "metadata": {},
   "outputs": [],
   "source": [
    "# # Python collection\n",
    "# list\n",
    "# tuple\n",
    "# dict\n",
    "# set"
   ]
  },
  {
   "cell_type": "code",
   "execution_count": 2,
   "id": "022fad6f",
   "metadata": {},
   "outputs": [],
   "source": [
    "# # list\n",
    "# indexing\n",
    "# multiple and duplicate data\n",
    "# Ordered\n",
    "# Mutable datatype"
   ]
  },
  {
   "cell_type": "code",
   "execution_count": 4,
   "id": "80c2b9aa",
   "metadata": {},
   "outputs": [
    {
     "name": "stdout",
     "output_type": "stream",
     "text": [
      "<class 'list'>\n",
      "<class 'list'>\n"
     ]
    }
   ],
   "source": [
    "a = [1,2,3,4,5,6,7,8,9]\n",
    "b = [\"Apple\",\"Ball\",\"Cat\",\"Dog\"]\n",
    "print(type(a))\n",
    "print(type(b))"
   ]
  },
  {
   "cell_type": "code",
   "execution_count": 7,
   "id": "bbf103ff",
   "metadata": {},
   "outputs": [
    {
     "name": "stdout",
     "output_type": "stream",
     "text": [
      "2\n",
      "Apple\n"
     ]
    }
   ],
   "source": [
    "print(a[1])\n",
    "print(b[0])"
   ]
  },
  {
   "cell_type": "code",
   "execution_count": 8,
   "id": "31077ad4",
   "metadata": {},
   "outputs": [
    {
     "name": "stdout",
     "output_type": "stream",
     "text": [
      "[1, 2, 3, 4, 5]\n",
      "[1, 3, 5]\n"
     ]
    }
   ],
   "source": [
    "print(a[0:5])\n",
    "print(a[0:5:2])"
   ]
  },
  {
   "cell_type": "code",
   "execution_count": 9,
   "id": "3594b4f6",
   "metadata": {},
   "outputs": [
    {
     "data": {
      "text/plain": [
       "[1, 2, 3, 4, 5, 6, 7, 8, 9, 3, 4, 5, 2, 3, 4]"
      ]
     },
     "execution_count": 9,
     "metadata": {},
     "output_type": "execute_result"
    }
   ],
   "source": [
    "a = [1,2,3,4,5,6,7,8,9,3,4,5,2,3,4]\n",
    "a"
   ]
  },
  {
   "cell_type": "code",
   "execution_count": 10,
   "id": "d456bda6",
   "metadata": {},
   "outputs": [
    {
     "name": "stdout",
     "output_type": "stream",
     "text": [
      "[1, 2, 3, 4, 5, 6, 7, 8, 9]\n"
     ]
    }
   ],
   "source": [
    "# + *\n",
    "a = [1,2,3,4]\n",
    "b = [5,6,7,8,9]\n",
    "c = a+b\n",
    "print(c)"
   ]
  },
  {
   "cell_type": "code",
   "execution_count": 11,
   "id": "d917f795",
   "metadata": {},
   "outputs": [
    {
     "name": "stdout",
     "output_type": "stream",
     "text": [
      "[1, 2, 3, 4, 1, 2, 3, 4]\n"
     ]
    }
   ],
   "source": [
    "a = [1,2,3,4]\n",
    "print(a*2)"
   ]
  },
  {
   "cell_type": "code",
   "execution_count": 12,
   "id": "ec980f6c",
   "metadata": {},
   "outputs": [
    {
     "name": "stdout",
     "output_type": "stream",
     "text": [
      "Apple\n",
      "Ball\n",
      "Cat\n",
      "Dog\n"
     ]
    }
   ],
   "source": [
    "b = [\"Apple\",\"Ball\",\"Cat\",\"Dog\"]\n",
    "for i in b:\n",
    "    print(i)"
   ]
  },
  {
   "cell_type": "code",
   "execution_count": 1,
   "id": "b05b8558",
   "metadata": {},
   "outputs": [
    {
     "name": "stdout",
     "output_type": "stream",
     "text": [
      "Enter n = 5\n",
      "Enter x = 123\n",
      "Enter x = 45\n",
      "Enter x = 56\n",
      "Enter x = 342\n",
      "Enter x = 567\n",
      "[123, 45, 56, 342, 567]\n"
     ]
    }
   ],
   "source": [
    "l = []\n",
    "n = int(input(\"Enter n = \"))\n",
    "for i in range(n):\n",
    "    x = int(input(\"Enter x = \"))\n",
    "    l = l + [x]\n",
    "print(l)"
   ]
  },
  {
   "cell_type": "code",
   "execution_count": 4,
   "id": "528922c2",
   "metadata": {},
   "outputs": [
    {
     "name": "stdout",
     "output_type": "stream",
     "text": [
      "Max value =  567\n",
      "Min value =  45\n",
      "sum =  1133\n",
      "[45, 56, 123, 342, 567]\n",
      "[567, 342, 123, 56, 45]\n"
     ]
    }
   ],
   "source": [
    "print(\"Max value = \",max(l))\n",
    "print(\"Min value = \",min(l))\n",
    "print(\"sum = \",sum(l))\n",
    "l.sort()\n",
    "print(l)\n",
    "l.reverse()\n",
    "print(l)"
   ]
  },
  {
   "cell_type": "code",
   "execution_count": 5,
   "id": "15fba74a",
   "metadata": {},
   "outputs": [
    {
     "name": "stdout",
     "output_type": "stream",
     "text": [
      "['Ant', 'Ball', 'Egg', 'Fish', 'Goat']\n"
     ]
    }
   ],
   "source": [
    "a = [\"Ball\",\"Goat\",\"Fish\",\"Ant\",\"Egg\"]\n",
    "a.sort()\n",
    "print(a)"
   ]
  },
  {
   "cell_type": "code",
   "execution_count": 6,
   "id": "010efb84",
   "metadata": {},
   "outputs": [],
   "source": [
    "# # insert data\n",
    "# append() insert() extend()\n",
    "\n",
    "# delete data\n",
    "# del remove() pop()"
   ]
  },
  {
   "cell_type": "code",
   "execution_count": 7,
   "id": "e2bb7197",
   "metadata": {},
   "outputs": [
    {
     "data": {
      "text/plain": [
       "['Apple']"
      ]
     },
     "execution_count": 7,
     "metadata": {},
     "output_type": "execute_result"
    }
   ],
   "source": [
    "a = []\n",
    "a.append(\"Apple\")\n",
    "a"
   ]
  },
  {
   "cell_type": "code",
   "execution_count": 9,
   "id": "96321010",
   "metadata": {},
   "outputs": [
    {
     "name": "stdout",
     "output_type": "stream",
     "text": [
      "Enter n = 2\n",
      "Enter x = Apple\n",
      "Enter x = Ball\n",
      "['Apple', 'Ball']\n"
     ]
    }
   ],
   "source": [
    "l = []\n",
    "n = int(input(\"Enter n = \"))\n",
    "for i in range(n):\n",
    "    x = input(\"Enter x = \")\n",
    "    l.append(x)\n",
    "print(l)"
   ]
  },
  {
   "cell_type": "code",
   "execution_count": 15,
   "id": "24e909a0",
   "metadata": {},
   "outputs": [
    {
     "data": {
      "text/plain": [
       "['Ball', 'Goat', 'Fish', 'Ant', 'Apple', 'Egg']"
      ]
     },
     "execution_count": 15,
     "metadata": {},
     "output_type": "execute_result"
    }
   ],
   "source": [
    "a = [\"Ball\",\"Goat\",\"Fish\",\"Ant\",\"Egg\"]\n",
    "a.insert(4,\"Apple\")\n",
    "a"
   ]
  },
  {
   "cell_type": "code",
   "execution_count": 17,
   "id": "214ce812",
   "metadata": {},
   "outputs": [
    {
     "data": {
      "text/plain": [
       "[1, 2, 3, 4, 5, 6, 5, 6, 7, 8, 9]"
      ]
     },
     "execution_count": 17,
     "metadata": {},
     "output_type": "execute_result"
    }
   ],
   "source": [
    "a = [1,2,3,4,5,6]\n",
    "b = [5,6,7,8,9]\n",
    "a.extend(b)\n",
    "a"
   ]
  },
  {
   "cell_type": "code",
   "execution_count": 18,
   "id": "5c6d0afd",
   "metadata": {},
   "outputs": [
    {
     "name": "stdout",
     "output_type": "stream",
     "text": [
      "['Ball', 'Fish', 'Ant', 'Apple', 'Egg']\n"
     ]
    }
   ],
   "source": [
    "# delete data\n",
    "# del remove() pop()\n",
    "a = ['Ball', 'Goat', 'Fish', 'Ant', 'Apple', 'Egg']\n",
    "del a[1]\n",
    "print(a)"
   ]
  },
  {
   "cell_type": "code",
   "execution_count": 19,
   "id": "a80240c4",
   "metadata": {},
   "outputs": [
    {
     "name": "stdout",
     "output_type": "stream",
     "text": [
      "['Apple', 'Egg']\n"
     ]
    }
   ],
   "source": [
    "del a[0:3]\n",
    "print(a)"
   ]
  },
  {
   "cell_type": "code",
   "execution_count": 20,
   "id": "f8a97eda",
   "metadata": {},
   "outputs": [
    {
     "data": {
      "text/plain": [
       "['Goat', 'Fish', 'Ant', 'Apple', 'Egg']"
      ]
     },
     "execution_count": 20,
     "metadata": {},
     "output_type": "execute_result"
    }
   ],
   "source": [
    "# remove()\n",
    "a = ['Ball', 'Goat', 'Fish', 'Ant', 'Apple', 'Egg']\n",
    "a.remove('Ball')\n",
    "a"
   ]
  },
  {
   "cell_type": "code",
   "execution_count": 22,
   "id": "8b236d28",
   "metadata": {},
   "outputs": [
    {
     "data": {
      "text/plain": [
       "['Goat', 'Fish', 'Ant', 'Apple', 'Egg']"
      ]
     },
     "execution_count": 22,
     "metadata": {},
     "output_type": "execute_result"
    }
   ],
   "source": [
    "a = ['Ball', 'Goat', 'Fish', 'Ant', 'Apple', 'Egg','Ball']\n",
    "c = a.count('Ball')\n",
    "for i in range(c):\n",
    "    a.remove('Ball')\n",
    "a"
   ]
  },
  {
   "cell_type": "code",
   "execution_count": 24,
   "id": "b8611c8a",
   "metadata": {},
   "outputs": [
    {
     "name": "stdout",
     "output_type": "stream",
     "text": [
      "Ant\n",
      "['Ball', 'Goat', 'Fish', 'Apple', 'Egg', 'Ball']\n"
     ]
    }
   ],
   "source": [
    "a = ['Ball', 'Goat', 'Fish', 'Ant', 'Apple', 'Egg','Ball']\n",
    "data = a.pop(3)\n",
    "print(data)\n",
    "print(a)"
   ]
  },
  {
   "cell_type": "code",
   "execution_count": 26,
   "id": "9175a429",
   "metadata": {},
   "outputs": [
    {
     "data": {
      "text/plain": [
       "['goat', 'Fish', 'Ant', 'Apple', 'Egg']"
      ]
     },
     "execution_count": 26,
     "metadata": {},
     "output_type": "execute_result"
    }
   ],
   "source": [
    "# Update\n",
    "a = ['Goat', 'Fish', 'Ant', 'Apple', 'Egg']\n",
    "a[0] = 'goat'\n",
    "a"
   ]
  },
  {
   "cell_type": "code",
   "execution_count": 27,
   "id": "a43d7c2c",
   "metadata": {},
   "outputs": [
    {
     "data": {
      "text/plain": [
       "2"
      ]
     },
     "execution_count": 27,
     "metadata": {},
     "output_type": "execute_result"
    }
   ],
   "source": [
    "# index\n",
    "a = ['Goat', 'Fish', 'Ant', 'Apple', 'Egg']\n",
    "a.index('Ant')"
   ]
  },
  {
   "cell_type": "code",
   "execution_count": 29,
   "id": "71235a67",
   "metadata": {},
   "outputs": [
    {
     "name": "stdout",
     "output_type": "stream",
     "text": [
      "Goat\n",
      "Fish\n",
      "Ant\n",
      "Apple\n",
      "Egg\n"
     ]
    }
   ],
   "source": [
    "# index\n",
    "a = ['Goat', 'Fish', 'Ant', 'Apple', 'Egg']\n",
    "l = len(a)\n",
    "for i in range(l):\n",
    "    print(a[i])"
   ]
  },
  {
   "cell_type": "code",
   "execution_count": 31,
   "id": "95a8d8a7",
   "metadata": {},
   "outputs": [
    {
     "name": "stdout",
     "output_type": "stream",
     "text": [
      "1\n",
      "5\n"
     ]
    }
   ],
   "source": [
    "# index\n",
    "a = ['Goat', 'Fish', 'Ant', 'Apple', 'Egg',\"Fish\"]\n",
    "l = len(a)\n",
    "for i in range(l):\n",
    "    if \"Fish\" == a[i]:\n",
    "        print(i)"
   ]
  },
  {
   "cell_type": "code",
   "execution_count": 32,
   "id": "0845d7d9",
   "metadata": {},
   "outputs": [
    {
     "name": "stdout",
     "output_type": "stream",
     "text": [
      "Yes\n",
      "1\n"
     ]
    }
   ],
   "source": [
    "#search\n",
    "a = ['Goat', 'Fish', 'Ant', 'Apple', 'Egg',\"Fish\"]\n",
    "if \"Apple\" in a:\n",
    "    print(\"Yes\")\n",
    "    print(a.count(\"Apple\"))"
   ]
  },
  {
   "cell_type": "code",
   "execution_count": 35,
   "id": "4996ccb5",
   "metadata": {},
   "outputs": [
    {
     "name": "stdout",
     "output_type": "stream",
     "text": [
      "Enter value = Apple\n",
      "Yes there are/is 2 no of Apple\n"
     ]
    }
   ],
   "source": [
    "# index\n",
    "c = 0\n",
    "a = ['Goat', 'Fish', 'Ant', 'Apple', 'Egg',\"Fish\"]\n",
    "value = input(\"Enter value = \")\n",
    "l = len(a)\n",
    "for i in range(l):\n",
    "    if \"Fish\".lower() == a[i].lower():\n",
    "        c = c+1\n",
    "if c>0:\n",
    "    print(f\"Yes there are/is {c} no of {value}\")"
   ]
  },
  {
   "cell_type": "code",
   "execution_count": 37,
   "id": "c7d5b962",
   "metadata": {},
   "outputs": [
    {
     "name": "stdout",
     "output_type": "stream",
     "text": [
      "[[1, 2, 3], [4, 5, 6], [7, 8, 9]]\n",
      "3\n"
     ]
    }
   ],
   "source": [
    "# list inside list\n",
    "a = [[1,2,3],\n",
    "    [4,5,6],\n",
    "    [7,8,9]]\n",
    "print(a)\n",
    "print(len(a))"
   ]
  },
  {
   "cell_type": "code",
   "execution_count": 39,
   "id": "773ebca3",
   "metadata": {},
   "outputs": [
    {
     "name": "stdout",
     "output_type": "stream",
     "text": [
      "[1, 2, 3]\n",
      "[4, 5, 6]\n",
      "[7, 8, 9]\n"
     ]
    }
   ],
   "source": [
    "print(a[0])\n",
    "print(a[1])\n",
    "print(a[2])"
   ]
  },
  {
   "cell_type": "code",
   "execution_count": 40,
   "id": "5d6995b3",
   "metadata": {},
   "outputs": [
    {
     "name": "stdout",
     "output_type": "stream",
     "text": [
      "1\n"
     ]
    }
   ],
   "source": [
    "a = [[1,2,3],\n",
    "    [4,5,6],\n",
    "    [7,8,9]]\n",
    "print(a[0][0])"
   ]
  },
  {
   "cell_type": "code",
   "execution_count": 41,
   "id": "97eb47ed",
   "metadata": {},
   "outputs": [
    {
     "name": "stdout",
     "output_type": "stream",
     "text": [
      "[['Ram', 45, 'Kathmandu'], ['Shyam', 34, 'Bhaktapur'], ['Hari', 67, 'Lalitpur']]\n"
     ]
    }
   ],
   "source": [
    "a = [['Ram',45,\"Kathmandu\"],\n",
    "    ['Shyam',34,\"Bhaktapur\"],\n",
    "    ['Hari',67,\"Lalitpur\"]]\n",
    "print(a)"
   ]
  },
  {
   "cell_type": "code",
   "execution_count": 42,
   "id": "3a2e310d",
   "metadata": {},
   "outputs": [
    {
     "name": "stdout",
     "output_type": "stream",
     "text": [
      "Enter n = 2\n",
      "Enter name = Ram\n",
      "Enter age = 34\n",
      "Enter address = Kathmandu\n",
      "Enter name = Shyam\n",
      "Enter age = 89\n",
      "Enter address = lalitpur\n",
      "[['Ram', 34, 'Kathmandu'], ['Shyam', 89, 'lalitpur']]\n"
     ]
    }
   ],
   "source": [
    "l = []\n",
    "n = int(input(\"Enter n = \"))\n",
    "for i in range(n):\n",
    "    name = input(\"Enter name = \")\n",
    "    age = int(input(\"Enter age = \"))\n",
    "    add = input(\"Enter address = \")\n",
    "    l.append([name,age,add])\n",
    "print(l)"
   ]
  },
  {
   "cell_type": "code",
   "execution_count": 43,
   "id": "45cc72fa",
   "metadata": {},
   "outputs": [
    {
     "data": {
      "text/plain": [
       "[['Ram', 34, 'Kathmandu'],\n",
       " ['Shyam', 89, 'lalitpur'],\n",
       " ['Hari', 34, 'Kathmandu']]"
      ]
     },
     "execution_count": 43,
     "metadata": {},
     "output_type": "execute_result"
    }
   ],
   "source": [
    "l.append(['Hari',34,'Kathmandu'])\n",
    "l"
   ]
  },
  {
   "cell_type": "code",
   "execution_count": 45,
   "id": "2b5902ad",
   "metadata": {},
   "outputs": [
    {
     "data": {
      "text/plain": [
       "[['Ram', 30, 'Kathmandu'],\n",
       " ['Shyam', 89, 'lalitpur'],\n",
       " ['Hari', 34, 'Kathmandu']]"
      ]
     },
     "execution_count": 45,
     "metadata": {},
     "output_type": "execute_result"
    }
   ],
   "source": [
    "l[0][1] = 30\n",
    "l"
   ]
  },
  {
   "cell_type": "code",
   "execution_count": null,
   "id": "e97deac8",
   "metadata": {},
   "outputs": [],
   "source": [
    "# # search\n",
    "# WAP to search details of any name"
   ]
  },
  {
   "cell_type": "code",
   "execution_count": null,
   "id": "1a0d6011",
   "metadata": {},
   "outputs": [],
   "source": [
    "# WAP to create a matrix\n",
    "# r = ?\n",
    "# c = ?\n",
    "# x = ?\n",
    "\n",
    "# WAP to convert billing system to list inside list\n",
    "# Momo 200 3.0 600.0\n",
    "# Coke 100 3.0 300.0\n",
    "# To list inside list and do CRUD operation\n",
    "\n",
    "# WAP to create result management system using list inside list"
   ]
  }
 ],
 "metadata": {
  "kernelspec": {
   "display_name": "Python 3 (ipykernel)",
   "language": "python",
   "name": "python3"
  },
  "language_info": {
   "codemirror_mode": {
    "name": "ipython",
    "version": 3
   },
   "file_extension": ".py",
   "mimetype": "text/x-python",
   "name": "python",
   "nbconvert_exporter": "python",
   "pygments_lexer": "ipython3",
   "version": "3.9.12"
  }
 },
 "nbformat": 4,
 "nbformat_minor": 5
}
