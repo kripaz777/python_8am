{
 "cells": [
  {
   "cell_type": "code",
   "execution_count": 1,
   "id": "4f1322cf",
   "metadata": {},
   "outputs": [],
   "source": [
    "# class A:\n",
    "#     pass\n",
    "\n",
    "# class B(A):\n",
    "#     pass\n",
    "\n",
    "# obj = B()"
   ]
  },
  {
   "cell_type": "code",
   "execution_count": 3,
   "id": "cb3e9690",
   "metadata": {},
   "outputs": [
    {
     "name": "stdout",
     "output_type": "stream",
     "text": [
      "Enter name = Ram\n",
      "Enter age = 56\n",
      "Enter add = Kathmandu\n",
      "Hello world I am Ram. I am from Kathmandu. I am 56\n"
     ]
    }
   ],
   "source": [
    "class Data:\n",
    "    def __init__(self):\n",
    "        self.name = input('Enter name = ')\n",
    "        self.age = int(input(\"Enter age = \"))\n",
    "        self.add = input('Enter add = ')\n",
    "        \n",
    "class Info(Data):\n",
    "    def info(self):\n",
    "        print(f\"Hello world I am {self.name}. I am from {self.add}. I am {self.age}\")\n",
    "        \n",
    "obj = Info()\n",
    "obj.info()"
   ]
  },
  {
   "cell_type": "code",
   "execution_count": 4,
   "id": "aeeabc36",
   "metadata": {},
   "outputs": [
    {
     "name": "stdout",
     "output_type": "stream",
     "text": [
      "Enter name = Ram\n",
      "Enter age = 67\n",
      "Enter add = Kathmandu\n",
      "Hello world I am Ram. I am from Kathmandu. I am 67\n"
     ]
    }
   ],
   "source": [
    "class Data:\n",
    "    def __init__(self,name,age,add):\n",
    "        self.name = name\n",
    "        self.age = age\n",
    "        self.add = add\n",
    "        \n",
    "class Info(Data):\n",
    "    def info(self):\n",
    "        print(f\"Hello world I am {self.name}. I am from {self.add}. I am {self.age}\")\n",
    "        \n",
    "name = input('Enter name = ')\n",
    "age = int(input(\"Enter age = \"))\n",
    "add = input('Enter add = ')\n",
    "\n",
    "obj = Info(name,age,add)\n",
    "obj.info()"
   ]
  },
  {
   "cell_type": "code",
   "execution_count": 5,
   "id": "e23747fb",
   "metadata": {},
   "outputs": [
    {
     "name": "stdout",
     "output_type": "stream",
     "text": [
      "Enter name = Ram\n",
      "Enter age = 78\n",
      "Enter add = Kathmandu\n",
      "Hello world I am Ram. I am from Kathmandu. I am 78\n"
     ]
    }
   ],
   "source": [
    "class Data:\n",
    "    def __init__(self,add):\n",
    "        self.add = add\n",
    "        \n",
    "    def data(self):\n",
    "        print(self.add)\n",
    "        \n",
    "class Info(Data):\n",
    "    def __init__(self,name,age,add):\n",
    "        self.name = name\n",
    "        self.age = age\n",
    "        Data.__init__(self,add)\n",
    "        \n",
    "    def info(self):\n",
    "        print(f\"Hello world I am {self.name}. I am from {self.add}. I am {self.age}\")\n",
    "        \n",
    "name = input('Enter name = ')\n",
    "age = int(input(\"Enter age = \"))\n",
    "add = input('Enter add = ')\n",
    "\n",
    "obj = Info(name,age,add)\n",
    "obj.info()"
   ]
  },
  {
   "cell_type": "code",
   "execution_count": null,
   "id": "03c81903",
   "metadata": {},
   "outputs": [],
   "source": [
    "# # multilevel inheritance\n",
    "# class A:\n",
    "#     pass\n",
    "# class B(A):\n",
    "#     pass\n",
    "# class C(B):\n",
    "#     pass\n",
    "\n",
    "# obj = C()"
   ]
  },
  {
   "cell_type": "code",
   "execution_count": 6,
   "id": "88d1e4a8",
   "metadata": {},
   "outputs": [
    {
     "name": "stdout",
     "output_type": "stream",
     "text": [
      "Enter name = Ram\n",
      "Enter age = 67\n",
      "Enter add = Kathmandu\n",
      "Hello world I am Ram. I am from Kathmandu. I am 67\n"
     ]
    }
   ],
   "source": [
    "class Age:\n",
    "    def __init__(self,age):\n",
    "        self.age = age\n",
    "    def age(self):\n",
    "        print(age)\n",
    "        \n",
    "class Data(Age):\n",
    "    def __init__(self,age,add):\n",
    "        self.add = add\n",
    "        Age.__init__(self,age)\n",
    "    def data(self):\n",
    "        print(self.add)\n",
    "        \n",
    "class Info(Data):\n",
    "    def __init__(self,name,age,add):\n",
    "        self.name = name\n",
    "        Data.__init__(self,age,add)\n",
    "        \n",
    "    def info(self):\n",
    "        print(f\"Hello world I am {self.name}. I am from {self.add}. I am {self.age}\")\n",
    "        \n",
    "name = input('Enter name = ')\n",
    "age = int(input(\"Enter age = \"))\n",
    "add = input('Enter add = ')\n",
    "\n",
    "obj = Info(name,age,add)\n",
    "obj.info()"
   ]
  },
  {
   "cell_type": "code",
   "execution_count": 7,
   "id": "92313849",
   "metadata": {},
   "outputs": [
    {
     "name": "stdout",
     "output_type": "stream",
     "text": [
      "Enter name = Ram\n",
      "Enter age = 78\n",
      "Enter add = Kathmandu\n",
      "Hello world I am Ram. I am from Kathmandu. I am 78\n"
     ]
    }
   ],
   "source": [
    "class Age:\n",
    "    def __init__(self,age):\n",
    "        self.age = age\n",
    "    def age(self):\n",
    "        print(age)\n",
    "        \n",
    "class Add:\n",
    "    def __init__(self,add):\n",
    "        self.add = add\n",
    "    def data(self):\n",
    "        print(self.add)\n",
    "        \n",
    "class Info(Age,Add):\n",
    "    def __init__(self,name,age,add):\n",
    "        self.name = name\n",
    "        Age.__init__(self,age)\n",
    "        Add.__init__(self,add)\n",
    "        \n",
    "    def info(self):\n",
    "        print(f\"Hello world I am {self.name}. I am from {self.add}. I am {self.age}\")\n",
    "        \n",
    "name = input('Enter name = ')\n",
    "age = int(input(\"Enter age = \"))\n",
    "add = input('Enter add = ')\n",
    "\n",
    "obj = Info(name,age,add)\n",
    "obj.info()"
   ]
  },
  {
   "cell_type": "code",
   "execution_count": 8,
   "id": "8c12f6f6",
   "metadata": {},
   "outputs": [
    {
     "name": "stdout",
     "output_type": "stream",
     "text": [
      "Enter name = Ram\n",
      "Enter age = 78\n",
      "Enter add = Kathmandu\n",
      "Hello world I am Ram. I am 78\n",
      "Ram 78\n"
     ]
    }
   ],
   "source": [
    "#public, private and protected\n",
    "class Data:\n",
    "    def __init__(self,name,age,add):\n",
    "        self.name = name                #public member\n",
    "        self._age = age                 #protected\n",
    "        self.__add = add                #private\n",
    "        \n",
    "    def data(self):\n",
    "        print(f\"Hello world I am {self.name}. I am {self._age}. I am from {self.__add}\")\n",
    "        \n",
    "class Info(Data):\n",
    "    def info(self):\n",
    "        print(f\"Hello world I am {self.name}. I am {self._age}\")\n",
    "        \n",
    "name = input('Enter name = ')\n",
    "age = int(input(\"Enter age = \"))\n",
    "add = input('Enter add = ')\n",
    "\n",
    "obj = Info(name,age,add)\n",
    "obj.info()\n",
    "obj.data()\n",
    "\n",
    "print(obj.name, obj._age)"
   ]
  },
  {
   "cell_type": "code",
   "execution_count": 11,
   "id": "f680728d",
   "metadata": {},
   "outputs": [
    {
     "name": "stdout",
     "output_type": "stream",
     "text": [
      "Enter name = Ram\n",
      "Enter age = 89\n",
      "Enter add = Kathmandu\n",
      "Hello world I am Ram. I am 89. I am from Kathmandu\n",
      "Ram 89\n"
     ]
    }
   ],
   "source": [
    "#public, private and protected\n",
    "class Data:\n",
    "    def __init__(self,name,age,add):\n",
    "        self.name = name                #public member\n",
    "        self._age = age                 #protected\n",
    "        self.__add = add                #private\n",
    "        \n",
    "    def data(self):\n",
    "        return f\"Hello world I am {self.name}. I am {self._age}. I am from {self.__add}\"\n",
    "        \n",
    "class Info(Data):\n",
    "    def info(self):\n",
    "        print(super().data())\n",
    "        \n",
    "name = input('Enter name = ')\n",
    "age = int(input(\"Enter age = \"))\n",
    "add = input('Enter add = ')\n",
    "\n",
    "obj = Info(name,age,add)\n",
    "obj.info()\n",
    "obj.data()\n",
    "\n",
    "print(obj.name, obj._age)"
   ]
  },
  {
   "cell_type": "code",
   "execution_count": null,
   "id": "74db5818",
   "metadata": {},
   "outputs": [],
   "source": []
  }
 ],
 "metadata": {
  "kernelspec": {
   "display_name": "Python 3 (ipykernel)",
   "language": "python",
   "name": "python3"
  },
  "language_info": {
   "codemirror_mode": {
    "name": "ipython",
    "version": 3
   },
   "file_extension": ".py",
   "mimetype": "text/x-python",
   "name": "python",
   "nbconvert_exporter": "python",
   "pygments_lexer": "ipython3",
   "version": "3.9.12"
  }
 },
 "nbformat": 4,
 "nbformat_minor": 5
}
