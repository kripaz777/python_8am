{
 "cells": [
  {
   "cell_type": "code",
   "execution_count": 1,
   "id": "51473aca",
   "metadata": {},
   "outputs": [],
   "source": [
    "# Tuple\n",
    "# indexing\n",
    "# multiple and duplicate\n",
    "# ordered\n",
    "# Imutable"
   ]
  },
  {
   "cell_type": "code",
   "execution_count": 2,
   "id": "862700ce",
   "metadata": {},
   "outputs": [
    {
     "name": "stdout",
     "output_type": "stream",
     "text": [
      "<class 'tuple'>\n"
     ]
    }
   ],
   "source": [
    "t = tuple()\n",
    "t = ()\n",
    "print(type(t))"
   ]
  },
  {
   "cell_type": "code",
   "execution_count": 3,
   "id": "6b370a11",
   "metadata": {},
   "outputs": [
    {
     "name": "stdout",
     "output_type": "stream",
     "text": [
      "('Apple', 'Ball', 'Cat', 'Dog', 'Fish')\n",
      "(1, 2, 3, 4, 5)\n"
     ]
    }
   ],
   "source": [
    "t = (1,2,3,4,5)\n",
    "a = (\"Apple\",\"Ball\",\"Cat\",\"Dog\",\"Fish\")\n",
    "\n",
    "print(a)\n",
    "print(t)"
   ]
  },
  {
   "cell_type": "code",
   "execution_count": 7,
   "id": "b2eab7b0",
   "metadata": {},
   "outputs": [
    {
     "name": "stdout",
     "output_type": "stream",
     "text": [
      "Apple\n",
      "('Apple', 'Ball', 'Cat', 'Dog', 'Fish')\n",
      "('Apple', 'Cat', 'Fish')\n"
     ]
    }
   ],
   "source": [
    "a = (\"Apple\",\"Ball\",\"Cat\",\"Dog\",\"Fish\",\"Apple\")\n",
    "print(a[0])\n",
    "print(a[0:5])\n",
    "print(a[0:5:2])"
   ]
  },
  {
   "cell_type": "code",
   "execution_count": 8,
   "id": "9b5187a4",
   "metadata": {},
   "outputs": [],
   "source": [
    "# # Imutable\n",
    "# No append() insert() extend()\n",
    "# No Update\n",
    "# No delete\n",
    "# No sort"
   ]
  },
  {
   "cell_type": "code",
   "execution_count": 9,
   "id": "1cde384f",
   "metadata": {},
   "outputs": [
    {
     "name": "stdout",
     "output_type": "stream",
     "text": [
      "('Apple', 'Ball', 'Cat', 'Dog', 'Fish', 'Apple')\n"
     ]
    }
   ],
   "source": [
    "a = (\"Apple\",\"Ball\",\"Cat\",)\n",
    "b = (\"Dog\",\"Fish\",\"Apple\")\n",
    "c = a+b\n",
    "print(c)"
   ]
  },
  {
   "cell_type": "code",
   "execution_count": 20,
   "id": "2c94704d",
   "metadata": {},
   "outputs": [
    {
     "name": "stdout",
     "output_type": "stream",
     "text": [
      "('Apple', 'Ball', 'Cat', 'Apple', 'Ball', 'Cat')\n"
     ]
    }
   ],
   "source": [
    "a = (\"Apple\",\"Ball\",\"Cat\",)\n",
    "print(a*2)"
   ]
  },
  {
   "cell_type": "code",
   "execution_count": 15,
   "id": "330d2fc1",
   "metadata": {},
   "outputs": [
    {
     "data": {
      "text/plain": [
       "tuple"
      ]
     },
     "execution_count": 15,
     "metadata": {},
     "output_type": "execute_result"
    }
   ],
   "source": [
    "a = (\"Apple\",)\n",
    "type(a)"
   ]
  },
  {
   "cell_type": "code",
   "execution_count": 17,
   "id": "e23c5109",
   "metadata": {},
   "outputs": [
    {
     "data": {
      "text/plain": [
       "('Ball',)"
      ]
     },
     "execution_count": 17,
     "metadata": {},
     "output_type": "execute_result"
    }
   ],
   "source": [
    "a = ()\n",
    "b = (\"Ball\",)\n",
    "c = a+b\n",
    "c"
   ]
  },
  {
   "cell_type": "code",
   "execution_count": 18,
   "id": "ebd197d5",
   "metadata": {},
   "outputs": [
    {
     "name": "stdout",
     "output_type": "stream",
     "text": [
      "Enter n = 5\n",
      "Enter x = 234\n",
      "Enter x = 345\n",
      "Enter x = 234\n",
      "Enter x = 45\n",
      "Enter x = 234\n"
     ]
    },
    {
     "data": {
      "text/plain": [
       "(234, 345, 234, 45, 234)"
      ]
     },
     "execution_count": 18,
     "metadata": {},
     "output_type": "execute_result"
    }
   ],
   "source": [
    "t = ()\n",
    "n = int(input(\"Enter n = \"))\n",
    "for i in range(n):\n",
    "    x = int(input(\"Enter x = \"))\n",
    "    t = t + (x,)\n",
    "    \n",
    "t"
   ]
  },
  {
   "cell_type": "code",
   "execution_count": 19,
   "id": "bff3655c",
   "metadata": {},
   "outputs": [
    {
     "name": "stdout",
     "output_type": "stream",
     "text": [
      "Sum =  1092\n",
      "max =  345\n",
      "min =  45\n"
     ]
    }
   ],
   "source": [
    "# sum() max() min() \n",
    "print(\"Sum = \",sum(t))\n",
    "print(\"max = \",max(t))\n",
    "print(\"min = \",min(t))"
   ]
  },
  {
   "cell_type": "code",
   "execution_count": 21,
   "id": "73140d94",
   "metadata": {},
   "outputs": [
    {
     "data": {
      "text/plain": [
       "2"
      ]
     },
     "execution_count": 21,
     "metadata": {},
     "output_type": "execute_result"
    }
   ],
   "source": [
    "# index\n",
    "a = ('Goat', 'Fish', 'Ant', 'Apple', 'Egg')\n",
    "a.index('Ant')"
   ]
  },
  {
   "cell_type": "code",
   "execution_count": 22,
   "id": "f7cb725f",
   "metadata": {},
   "outputs": [
    {
     "name": "stdout",
     "output_type": "stream",
     "text": [
      "Goat\n",
      "Fish\n",
      "Ant\n",
      "Apple\n",
      "Egg\n"
     ]
    }
   ],
   "source": [
    "# index\n",
    "a = ('Goat', 'Fish', 'Ant', 'Apple', 'Egg')\n",
    "l = len(a)\n",
    "for i in range(l):\n",
    "    print(a[i])"
   ]
  },
  {
   "cell_type": "code",
   "execution_count": 23,
   "id": "bcff49d1",
   "metadata": {},
   "outputs": [
    {
     "name": "stdout",
     "output_type": "stream",
     "text": [
      "1\n",
      "5\n"
     ]
    }
   ],
   "source": [
    "# index\n",
    "a = ('Goat', 'Fish', 'Ant', 'Apple', 'Egg',\"Fish\")\n",
    "l = len(a)\n",
    "for i in range(l):\n",
    "    if \"Fish\" == a[i]:\n",
    "        print(i)"
   ]
  },
  {
   "cell_type": "code",
   "execution_count": 24,
   "id": "9d54dad4",
   "metadata": {},
   "outputs": [
    {
     "name": "stdout",
     "output_type": "stream",
     "text": [
      "Yes\n",
      "1\n"
     ]
    }
   ],
   "source": [
    "#search\n",
    "a = ('Goat', 'Fish', 'Ant', 'Apple', 'Egg',\"Fish\")\n",
    "if \"Apple\" in a:\n",
    "    print(\"Yes\")\n",
    "    print(a.count(\"Apple\"))"
   ]
  },
  {
   "cell_type": "code",
   "execution_count": 26,
   "id": "9bd520dd",
   "metadata": {},
   "outputs": [
    {
     "name": "stdout",
     "output_type": "stream",
     "text": [
      "Enter value = goat\n",
      "Yes there are/is 1 no of goat\n"
     ]
    }
   ],
   "source": [
    "# index\n",
    "c = 0\n",
    "a = ('Goat', 'Fish', 'Ant', 'Apple', 'Egg',\"Fish\")\n",
    "value = input(\"Enter value = \")\n",
    "l = len(a)\n",
    "for i in range(l):\n",
    "    if value.lower() == a[i].lower():\n",
    "        c = c+1\n",
    "if c>0:\n",
    "    print(f\"Yes there are/is {c} no of {value}\")"
   ]
  },
  {
   "cell_type": "code",
   "execution_count": 32,
   "id": "53d2f460",
   "metadata": {},
   "outputs": [
    {
     "data": {
      "text/plain": [
       "('Fish', 'Ant', 'Apple', 'Egg', 'Fish')"
      ]
     },
     "execution_count": 32,
     "metadata": {},
     "output_type": "execute_result"
    }
   ],
   "source": [
    "#tuple to list\n",
    "a = ('Goat', 'Fish', 'Ant', 'Apple', 'Egg',\"Fish\")\n",
    "b = list(a)\n",
    "del b[0]\n",
    "a = tuple(b)\n",
    "a"
   ]
  },
  {
   "cell_type": "code",
   "execution_count": 33,
   "id": "da9bfe23",
   "metadata": {},
   "outputs": [
    {
     "data": {
      "text/plain": [
       "['Ant', 'Apple', 'Egg', 'Fish', 'Fish', 'Goat']"
      ]
     },
     "execution_count": 33,
     "metadata": {},
     "output_type": "execute_result"
    }
   ],
   "source": [
    "a = ('Goat', 'Fish', 'Ant', 'Apple', 'Egg',\"Fish\")\n",
    "sorted(a)"
   ]
  },
  {
   "cell_type": "code",
   "execution_count": 35,
   "id": "3da98ed9",
   "metadata": {},
   "outputs": [],
   "source": [
    "# tuple inside tuple\n",
    "a = ((\"Ram\",78,\"Kathmandu\"),\n",
    "    \"Shyam\",45,\"Bhaktapur\"))\n"
   ]
  },
  {
   "cell_type": "code",
   "execution_count": 36,
   "id": "3b5c8218",
   "metadata": {},
   "outputs": [
    {
     "name": "stdout",
     "output_type": "stream",
     "text": [
      "Enter n = 2\n",
      "Enter name = Ram\n",
      "Enter age = 89\n",
      "Enter add = Kathmandu\n",
      "Enter name = Shyam\n",
      "Enter age = 89\n",
      "Enter add = Bhaktapur\n"
     ]
    },
    {
     "data": {
      "text/plain": [
       "(('Ram', 89, 'Kathmandu'), ('Shyam', 89, 'Bhaktapur'))"
      ]
     },
     "execution_count": 36,
     "metadata": {},
     "output_type": "execute_result"
    }
   ],
   "source": [
    "t = ()\n",
    "n = int(input(\"Enter n = \"))\n",
    "for i in range(n):\n",
    "    name = input(\"Enter name = \")\n",
    "    age = int(input(\"Enter age = \"))\n",
    "    add = input(\"Enter add = \")\n",
    "    t = t + ((name,age,add),)\n",
    "    \n",
    "t"
   ]
  },
  {
   "cell_type": "code",
   "execution_count": null,
   "id": "46bce1e7",
   "metadata": {},
   "outputs": [],
   "source": []
  }
 ],
 "metadata": {
  "kernelspec": {
   "display_name": "Python 3 (ipykernel)",
   "language": "python",
   "name": "python3"
  },
  "language_info": {
   "codemirror_mode": {
    "name": "ipython",
    "version": 3
   },
   "file_extension": ".py",
   "mimetype": "text/x-python",
   "name": "python",
   "nbconvert_exporter": "python",
   "pygments_lexer": "ipython3",
   "version": "3.9.12"
  }
 },
 "nbformat": 4,
 "nbformat_minor": 5
}
