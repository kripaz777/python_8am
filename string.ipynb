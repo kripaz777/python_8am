{
 "cells": [
  {
   "cell_type": "code",
   "execution_count": 1,
   "id": "c8fa14a9",
   "metadata": {},
   "outputs": [
    {
     "name": "stdout",
     "output_type": "stream",
     "text": [
      "<class 'str'>\n",
      "<class 'str'>\n",
      "<class 'str'>\n"
     ]
    }
   ],
   "source": [
    "a = 'Hello World'\n",
    "b = \"Hello World\"\n",
    "c = '''Hello World'''\n",
    "\n",
    "print(type(a))\n",
    "print(type(b))\n",
    "print(type(c))"
   ]
  },
  {
   "cell_type": "code",
   "execution_count": 3,
   "id": "59c87400",
   "metadata": {},
   "outputs": [
    {
     "name": "stdout",
     "output_type": "stream",
     "text": [
      "Hello World\n"
     ]
    }
   ],
   "source": [
    "# + *\n",
    "a = \"Hello \"\n",
    "b = \"World\"\n",
    "c = a+b\n",
    "print(c)"
   ]
  },
  {
   "cell_type": "code",
   "execution_count": 5,
   "id": "d6c69a2d",
   "metadata": {},
   "outputs": [
    {
     "name": "stdout",
     "output_type": "stream",
     "text": [
      "Hello Word\n",
      "Hello Word\n",
      "\n"
     ]
    }
   ],
   "source": [
    "a = \"Hello Word\\n\"\n",
    "print(a*2)"
   ]
  },
  {
   "cell_type": "code",
   "execution_count": 6,
   "id": "1591c354",
   "metadata": {},
   "outputs": [
    {
     "name": "stdout",
     "output_type": "stream",
     "text": [
      "Enter a = Hello \n",
      "Enter b = World\n",
      "Hello World\n"
     ]
    }
   ],
   "source": [
    "a = input(\"Enter a = \")\n",
    "b = input(\"Enter b = \")\n",
    "c = a+b\n",
    "print(c)"
   ]
  },
  {
   "cell_type": "code",
   "execution_count": 7,
   "id": "eb4a5d70",
   "metadata": {},
   "outputs": [
    {
     "name": "stdout",
     "output_type": "stream",
     "text": [
      "Enter name = Ram\n",
      "Enter age = 34\n",
      "Enter add = Kathmandu\n",
      "Hello World I am Ram I am 34 I am from Kathmandu\n"
     ]
    }
   ],
   "source": [
    "name = input(\"Enter name = \")\n",
    "age = int(input(\"Enter age = \"))\n",
    "add = input(\"Enter add = \")\n",
    "info = \"Hello World I am \" + name + \" I am \" +str(age) + \" I am from \" + add\n",
    "print(info)"
   ]
  },
  {
   "cell_type": "code",
   "execution_count": null,
   "id": "0c8e1fd7",
   "metadata": {},
   "outputs": [],
   "source": [
    "#s = str()\n",
    "s = \"\"\n",
    "n = int(input(\"Enter n = \"))\n",
    "for i in range(n):\n",
    "    name = input(\"Enter name = \")\n",
    "    phone = input(\"Enter phone = \")\n",
    "    s = s + name + \"\\t\" + phone + \"\\n\"\n",
    "    \n",
    "print(s)"
   ]
  },
  {
   "cell_type": "code",
   "execution_count": null,
   "id": "14dfcfce",
   "metadata": {},
   "outputs": [],
   "source": [
    "a = \"Hello World. I am Python.\"\n",
    "for i in a:\n",
    "    if i != \".\":\n",
    "        print(i,end = \"\")\n",
    "        \n",
    "a"
   ]
  },
  {
   "cell_type": "code",
   "execution_count": null,
   "id": "b15d8b4c",
   "metadata": {},
   "outputs": [],
   "source": [
    "i = 0\n",
    "a = \"Hello World. I am Python.\"\n",
    "while i<len(a):\n",
    "    if a[i] != \".\":\n",
    "        print(a[i],end = \"\")\n",
    "    i = i+1\n"
   ]
  },
  {
   "cell_type": "code",
   "execution_count": null,
   "id": "ad56fdb4",
   "metadata": {},
   "outputs": [],
   "source": [
    "i = 0\n",
    "a = \"Hello World. I am Python.\"\n",
    "while i<len(a):\n",
    "    if a[i] == \".\":\n",
    "        break\n",
    "    print(a[i],end = \"\")\n",
    "    i = i+1\n"
   ]
  },
  {
   "cell_type": "code",
   "execution_count": 9,
   "id": "78292b9c",
   "metadata": {},
   "outputs": [
    {
     "name": "stdout",
     "output_type": "stream",
     "text": [
      "11\n"
     ]
    }
   ],
   "source": [
    "a = \"Hello World\"\n",
    "l = len(a)\n",
    "print(l)"
   ]
  },
  {
   "cell_type": "code",
   "execution_count": 14,
   "id": "0cff39db",
   "metadata": {},
   "outputs": [
    {
     "name": "stdout",
     "output_type": "stream",
     "text": [
      "H\n",
      "Hello\n",
      "HloWrd\n"
     ]
    }
   ],
   "source": [
    "#range\n",
    "a = \"Hello World\"\n",
    "print(a[0])\n",
    "print(a[0:5])\n",
    "print(a[0:11:2])"
   ]
  },
  {
   "cell_type": "code",
   "execution_count": 21,
   "id": "32046370",
   "metadata": {},
   "outputs": [
    {
     "name": "stdout",
     "output_type": "stream",
     "text": [
      "dlroW olleH\n"
     ]
    }
   ],
   "source": [
    "a = \"Hello World\"\n",
    "print(a[::-1])"
   ]
  },
  {
   "cell_type": "code",
   "execution_count": 24,
   "id": "f505363c",
   "metadata": {},
   "outputs": [
    {
     "name": "stdout",
     "output_type": "stream",
     "text": [
      "Enter a = 1011\n",
      "The no is not palindrome\n"
     ]
    }
   ],
   "source": [
    "a = input(\"Enter a = \")\n",
    "if a == a[::-1]:\n",
    "    print(\"The is palindrome\")\n",
    "else:\n",
    "    print(\"The no is not palindrome\")"
   ]
  },
  {
   "cell_type": "code",
   "execution_count": 27,
   "id": "76a2d346",
   "metadata": {},
   "outputs": [
    {
     "data": {
      "text/plain": [
       "'Hello World I am Ram. I am from Kathmandu. I am 11'"
      ]
     },
     "execution_count": 27,
     "metadata": {},
     "output_type": "execute_result"
    }
   ],
   "source": [
    "# string formatting\n",
    "name = \"Ram\"\n",
    "age = 11\n",
    "add = \"Kathmandu\"\n",
    "\n",
    "info = f\"Hello World I am {name}. I am from {add}. I am {age}\"\n",
    "info"
   ]
  },
  {
   "cell_type": "code",
   "execution_count": null,
   "id": "7f9772df",
   "metadata": {},
   "outputs": [],
   "source": [
    "#s = str()\n",
    "s = \"\"\n",
    "n = int(input(\"Enter n = \"))\n",
    "for i in range(n):\n",
    "    name = input(\"Enter name = \")\n",
    "    phone = input(\"Enter phone = \")\n",
    "    s = s + f\"{name}  {phone}  \\n\"\n",
    "    \n",
    "print(s)"
   ]
  },
  {
   "cell_type": "code",
   "execution_count": 29,
   "id": "24b6ef31",
   "metadata": {},
   "outputs": [
    {
     "name": "stdout",
     "output_type": "stream",
     "text": [
      "Enter n = 2\n",
      "Enter name = Momo\n",
      "Enter price = 200\n",
      "Enter quantity = 3\n",
      "Enter name = Coke\n",
      "Enter price = 100\n",
      "Enter quantity = 3\n",
      "Momo 200 3.0 600.0\n",
      "Coke 100 3.0 300.0\n",
      "\n"
     ]
    }
   ],
   "source": [
    "# WAP to create a billing system\n",
    "# name\n",
    "# price\n",
    "# quantity\n",
    "# total\n",
    "# output:\n",
    "# Momo 1 200 200\n",
    "# Coke 2 100 200\n",
    "bill = \"\"\n",
    "n = int(input(\"Enter n = \"))\n",
    "for i in range(n):\n",
    "    name = input(\"Enter name = \")\n",
    "    price = int(input(\"Enter price = \"))\n",
    "    quantity = float(input(\"Enter quantity = \"))\n",
    "    total = price * quantity\n",
    "    bill = bill + f\"{name} {price} {quantity} {total}\\n\"\n",
    "    \n",
    "print(bill)"
   ]
  },
  {
   "cell_type": "code",
   "execution_count": 31,
   "id": "6e75d690",
   "metadata": {},
   "outputs": [
    {
     "name": "stdout",
     "output_type": "stream",
     "text": [
      "Yes\n",
      "1\n"
     ]
    }
   ],
   "source": [
    "a = \"Ram Shyam Hari Sita Gita Sameer\"\n",
    "if \"Ram\" in a:\n",
    "    print(\"Yes\")\n",
    "    print(a.count(\"Ram\"))\n",
    "else:\n",
    "    print(\"No\")"
   ]
  },
  {
   "cell_type": "code",
   "execution_count": 39,
   "id": "f3bb7850",
   "metadata": {},
   "outputs": [
    {
     "name": "stdout",
     "output_type": "stream",
     "text": [
      "Enter name = a\n",
      "Yes\n",
      "7\n"
     ]
    }
   ],
   "source": [
    "a = \"Ram Shyam Hari Sita Gita Sameer Ramesh\".lower()\n",
    "name = input(\"Enter name = \").lower()\n",
    "if name in a:\n",
    "    print(\"Yes\")\n",
    "    print(a.count(name))\n",
    "else:\n",
    "    print(\"No\")"
   ]
  },
  {
   "cell_type": "code",
   "execution_count": 34,
   "id": "8b8aa16f",
   "metadata": {},
   "outputs": [
    {
     "name": "stdout",
     "output_type": "stream",
     "text": [
      "RAM SHYAM HARI SITA GITA SAMEER\n",
      "ram shyam hari sita gita sameer\n",
      "Ram Shyam Hari Sita Gita Sameer\n"
     ]
    }
   ],
   "source": [
    "a = \"Ram Shyam Hari Sita Gita Sameer\"\n",
    "print(a.upper())\n",
    "print(a.lower())\n",
    "print(a)"
   ]
  },
  {
   "cell_type": "code",
   "execution_count": 41,
   "id": "239f435e",
   "metadata": {},
   "outputs": [
    {
     "name": "stdout",
     "output_type": "stream",
     "text": [
      "Rama Shyam Hari Sita Gita Sameer\n"
     ]
    }
   ],
   "source": [
    "a = \"Ram Shyam Hari Sita Gita Sameer\"\n",
    "a = a.replace('Ram','Rama')\n",
    "print(a)"
   ]
  },
  {
   "cell_type": "code",
   "execution_count": 42,
   "id": "9a74e515",
   "metadata": {},
   "outputs": [
    {
     "name": "stdout",
     "output_type": "stream",
     "text": [
      "Rama Shyam Hari Sita Gita Sameer Ramesh\n"
     ]
    }
   ],
   "source": [
    "a = \"Ram Shyam Hari Sita Gita Sameer Ramesh\"\n",
    "a = a.replace('Ram ','Rama ')\n",
    "print(a)"
   ]
  },
  {
   "cell_type": "code",
   "execution_count": 43,
   "id": "5140c94b",
   "metadata": {},
   "outputs": [
    {
     "name": "stdout",
     "output_type": "stream",
     "text": [
      "Shyam Hari Sita Gita Sameer Ramesh\n"
     ]
    }
   ],
   "source": [
    "a = \"Ram Shyam Hari Sita Gita Sameer Ramesh\"\n",
    "a = a.replace('Ram ','')\n",
    "print(a)"
   ]
  },
  {
   "cell_type": "code",
   "execution_count": 46,
   "id": "2545efc1",
   "metadata": {},
   "outputs": [
    {
     "name": "stdout",
     "output_type": "stream",
     "text": [
      "Ram Shyam\n"
     ]
    }
   ],
   "source": [
    "# slicing\n",
    "a = \"Ram Shyam Hari Sita Gita Sameer Ramesh\"\n",
    "b = a[0:9]\n",
    "print(b)"
   ]
  },
  {
   "cell_type": "code",
   "execution_count": null,
   "id": "f1f3b61b",
   "metadata": {},
   "outputs": [],
   "source": [
    "# .replace(),\n",
    "# .lower(),\n",
    "# .upper(),\n",
    "# .title()\n",
    "# .lstrip(),\n",
    "# .rstrip(),\n",
    "# .strip(),\n",
    "# .split(), .join(), .isdigit(), isupper(), islower()"
   ]
  },
  {
   "cell_type": "code",
   "execution_count": 47,
   "id": "d51f0ee1",
   "metadata": {},
   "outputs": [
    {
     "name": "stdout",
     "output_type": "stream",
     "text": [
      "Ram Shyam Hari Sita Gita Sameer\n"
     ]
    }
   ],
   "source": [
    "a = \"ram shyam hari sita gita sameer\"\n",
    "print(a.title())"
   ]
  },
  {
   "cell_type": "code",
   "execution_count": 48,
   "id": "b8b70c09",
   "metadata": {},
   "outputs": [
    {
     "name": "stdout",
     "output_type": "stream",
     "text": [
      "['ram', 'shyam', 'hari', 'sita', 'gita', 'sameer']\n"
     ]
    }
   ],
   "source": [
    "a = \"ram shyam hari sita gita sameer\"\n",
    "print(a.split())"
   ]
  },
  {
   "cell_type": "code",
   "execution_count": 49,
   "id": "6b2f6056",
   "metadata": {},
   "outputs": [
    {
     "name": "stdout",
     "output_type": "stream",
     "text": [
      "['ram', 'shyam', 'hari', 'sita', 'gita', 'sameer']\n"
     ]
    }
   ],
   "source": [
    "a = \"ram.shyam.hari.sita.gita.sameer\"\n",
    "print(a.split('.'))"
   ]
  },
  {
   "cell_type": "code",
   "execution_count": 50,
   "id": "64cfea10",
   "metadata": {},
   "outputs": [
    {
     "data": {
      "text/plain": [
       "'\"!@#$%^&*()\\'\\'\"'"
      ]
     },
     "execution_count": 50,
     "metadata": {},
     "output_type": "execute_result"
    }
   ],
   "source": [
    "a = '''\"!@#$%^&*()''\"'''\n",
    "a"
   ]
  },
  {
   "cell_type": "code",
   "execution_count": 51,
   "id": "0dc19c49",
   "metadata": {},
   "outputs": [
    {
     "data": {
      "text/plain": [
       "True"
      ]
     },
     "execution_count": 51,
     "metadata": {},
     "output_type": "execute_result"
    }
   ],
   "source": [
    "a = \"100\"\n",
    "a.isdigit()"
   ]
  },
  {
   "cell_type": "code",
   "execution_count": 52,
   "id": "7b54e5d3",
   "metadata": {},
   "outputs": [
    {
     "data": {
      "text/plain": [
       "False"
      ]
     },
     "execution_count": 52,
     "metadata": {},
     "output_type": "execute_result"
    }
   ],
   "source": [
    "# isupper(), islower()\n",
    "a = \"ram shyam hari sita gita sameer\"\n",
    "a.isupper()"
   ]
  },
  {
   "cell_type": "code",
   "execution_count": 53,
   "id": "76cfc326",
   "metadata": {},
   "outputs": [
    {
     "data": {
      "text/plain": [
       "True"
      ]
     },
     "execution_count": 53,
     "metadata": {},
     "output_type": "execute_result"
    }
   ],
   "source": [
    "a = \"ram shyam hari sita gita sameer\"\n",
    "a.islower()"
   ]
  },
  {
   "cell_type": "code",
   "execution_count": 57,
   "id": "70ae0ac9",
   "metadata": {},
   "outputs": [
    {
     "name": "stdout",
     "output_type": "stream",
     "text": [
      "wHello oHello rHello lHello d\n"
     ]
    }
   ],
   "source": [
    "# join()\n",
    "a = \"Hello \"\n",
    "b = \"world\"\n",
    "print(a.join(b))"
   ]
  },
  {
   "cell_type": "code",
   "execution_count": 60,
   "id": "bd55a669",
   "metadata": {},
   "outputs": [
    {
     "name": "stdout",
     "output_type": "stream",
     "text": [
      "Helloworld\n"
     ]
    }
   ],
   "source": [
    "# join()\n",
    "a = \"\"\n",
    "b = [\"Hello \",\"world\"]\n",
    "print(a.join(b))"
   ]
  },
  {
   "cell_type": "code",
   "execution_count": 62,
   "id": "89acf2f1",
   "metadata": {},
   "outputs": [
    {
     "data": {
      "text/plain": [
       "'ram shyam hari sita gita sameer'"
      ]
     },
     "execution_count": 62,
     "metadata": {},
     "output_type": "execute_result"
    }
   ],
   "source": [
    "a = ['ram', 'shyam', 'hari', 'sita', 'gita', 'sameer']\n",
    "b = \" \"\n",
    "b.join(a)"
   ]
  },
  {
   "cell_type": "code",
   "execution_count": null,
   "id": "ccf0aa21",
   "metadata": {},
   "outputs": [],
   "source": []
  }
 ],
 "metadata": {
  "kernelspec": {
   "display_name": "Python 3 (ipykernel)",
   "language": "python",
   "name": "python3"
  },
  "language_info": {
   "codemirror_mode": {
    "name": "ipython",
    "version": 3
   },
   "file_extension": ".py",
   "mimetype": "text/x-python",
   "name": "python",
   "nbconvert_exporter": "python",
   "pygments_lexer": "ipython3",
   "version": "3.9.12"
  }
 },
 "nbformat": 4,
 "nbformat_minor": 5
}
