{
 "cells": [
  {
   "cell_type": "code",
   "execution_count": 1,
   "id": "4c78ea03",
   "metadata": {},
   "outputs": [],
   "source": [
    "# lambda <arguments>:<operations>\n"
   ]
  },
  {
   "cell_type": "code",
   "execution_count": 3,
   "id": "91a665ab",
   "metadata": {},
   "outputs": [
    {
     "name": "stdout",
     "output_type": "stream",
     "text": [
      "4\n"
     ]
    }
   ],
   "source": [
    "x = lambda a:a**2\n",
    "print(x(2))"
   ]
  },
  {
   "cell_type": "code",
   "execution_count": 4,
   "id": "7c2db810",
   "metadata": {},
   "outputs": [
    {
     "data": {
      "text/plain": [
       "200"
      ]
     },
     "execution_count": 4,
     "metadata": {},
     "output_type": "execute_result"
    }
   ],
   "source": [
    "x = lambda l,b: l*b\n",
    "x(10,20)"
   ]
  },
  {
   "cell_type": "code",
   "execution_count": 7,
   "id": "03f6af5f",
   "metadata": {},
   "outputs": [
    {
     "data": {
      "text/plain": [
       "[4, 6, 8, 10]"
      ]
     },
     "execution_count": 7,
     "metadata": {},
     "output_type": "execute_result"
    }
   ],
   "source": [
    "# filter\n",
    "a = [1,23,4,5,6,7,8,9,10]\n",
    "b = list(filter(lambda x:x%2==0,a))\n",
    "b"
   ]
  },
  {
   "cell_type": "code",
   "execution_count": 10,
   "id": "81beb8c7",
   "metadata": {},
   "outputs": [
    {
     "data": {
      "text/plain": [
       "['APPLE']"
      ]
     },
     "execution_count": 10,
     "metadata": {},
     "output_type": "execute_result"
    }
   ],
   "source": [
    "a = [\"APPLE\",\"Ball\",\"cat\",\"Dog\",\"Fish\",\"Egg\"]\n",
    "b = list(filter(lambda x:x.isupper(),a))\n",
    "b"
   ]
  },
  {
   "cell_type": "code",
   "execution_count": 11,
   "id": "9fcb6e60",
   "metadata": {},
   "outputs": [
    {
     "data": {
      "text/plain": [
       "['APPLE', 'Ball', 'Dog', 'Fish', 'Egg']"
      ]
     },
     "execution_count": 11,
     "metadata": {},
     "output_type": "execute_result"
    }
   ],
   "source": [
    "a = [\"APPLE\",\"Ball\",\"cat\",\"Dog\",\"Fish\",\"Egg\"]\n",
    "b = list(filter(lambda x:x[0].isupper(),a))\n",
    "b"
   ]
  },
  {
   "cell_type": "code",
   "execution_count": 12,
   "id": "e227d009",
   "metadata": {},
   "outputs": [
    {
     "name": "stdout",
     "output_type": "stream",
     "text": [
      "[1, 2, 3, 4, 5, 6, 7, 8, 9, 1, 2, 3, 4, 5, 6, 7, 8, 9]\n"
     ]
    }
   ],
   "source": [
    "# map function\n",
    "a = [1,2,3,4,5,6,7,8,9]\n",
    "print(a*2)"
   ]
  },
  {
   "cell_type": "code",
   "execution_count": 13,
   "id": "99501878",
   "metadata": {},
   "outputs": [
    {
     "data": {
      "text/plain": [
       "['apple', 'ball', 'cat', 'dog', 'fish', 'egg']"
      ]
     },
     "execution_count": 13,
     "metadata": {},
     "output_type": "execute_result"
    }
   ],
   "source": [
    "a = [\"APPLE\",\"Ball\",\"cat\",\"Dog\",\"Fish\",\"Egg\"]\n",
    "b = list(map(lambda x:x.lower(),a))\n",
    "b"
   ]
  },
  {
   "cell_type": "code",
   "execution_count": 14,
   "id": "077d81cd",
   "metadata": {},
   "outputs": [
    {
     "data": {
      "text/plain": [
       "[1, 4, 9, 16, 25, 36, 49, 64, 81]"
      ]
     },
     "execution_count": 14,
     "metadata": {},
     "output_type": "execute_result"
    }
   ],
   "source": [
    "a = [1,2,3,4,5,6,7,8,9]\n",
    "b = list(map(lambda x:x**2,a))\n",
    "b"
   ]
  },
  {
   "cell_type": "code",
   "execution_count": 15,
   "id": "f0f00dd4",
   "metadata": {},
   "outputs": [],
   "source": [
    "# comprihenson list and dict"
   ]
  },
  {
   "cell_type": "code",
   "execution_count": 16,
   "id": "884c8718",
   "metadata": {},
   "outputs": [
    {
     "data": {
      "text/plain": [
       "[0, 1, 2, 3, 4]"
      ]
     },
     "execution_count": 16,
     "metadata": {},
     "output_type": "execute_result"
    }
   ],
   "source": [
    "a = [i for i in range(5)]\n",
    "a"
   ]
  },
  {
   "cell_type": "code",
   "execution_count": 18,
   "id": "5c604662",
   "metadata": {},
   "outputs": [
    {
     "name": "stdout",
     "output_type": "stream",
     "text": [
      "Enter value = 34\n",
      "Enter value = 56\n",
      "Enter value = 43\n",
      "Enter value = 45\n",
      "Enter value = 32\n"
     ]
    },
    {
     "data": {
      "text/plain": [
       "[34, 56, 43, 45, 32]"
      ]
     },
     "execution_count": 18,
     "metadata": {},
     "output_type": "execute_result"
    }
   ],
   "source": [
    "a = [int(input(\"Enter value = \")) for i in range(5)]\n",
    "a"
   ]
  },
  {
   "cell_type": "code",
   "execution_count": 19,
   "id": "5cd1770d",
   "metadata": {},
   "outputs": [
    {
     "name": "stdout",
     "output_type": "stream",
     "text": [
      "Enter value = 78\n",
      "Enter value = 45\n",
      "Enter value = 34\n",
      "Enter value = 56\n",
      "Enter value = 34\n"
     ]
    },
    {
     "data": {
      "text/plain": [
       "247"
      ]
     },
     "execution_count": 19,
     "metadata": {},
     "output_type": "execute_result"
    }
   ],
   "source": [
    "a = sum([int(input(\"Enter value = \")) for i in range(5)])\n",
    "a"
   ]
  },
  {
   "cell_type": "code",
   "execution_count": 21,
   "id": "6f304597",
   "metadata": {},
   "outputs": [
    {
     "data": {
      "text/plain": [
       "[2, 4, 6, 8]"
      ]
     },
     "execution_count": 21,
     "metadata": {},
     "output_type": "execute_result"
    }
   ],
   "source": [
    "a = [1,2,3,4,5,6,7,8,9]\n",
    "b = [i for i in a if i%2==0]\n",
    "b"
   ]
  },
  {
   "cell_type": "code",
   "execution_count": 5,
   "id": "91cf311c",
   "metadata": {
    "scrolled": true
   },
   "outputs": [
    {
     "name": "stdout",
     "output_type": "stream",
     "text": [
      "Enter nameRam\n",
      "Enter phone9808778765\n",
      "Enter nameShyam\n",
      "Enter phone9808778765\n"
     ]
    },
    {
     "data": {
      "text/plain": [
       "{'Ram': '9808778765', 'Shyam': '9808778765'}"
      ]
     },
     "execution_count": 5,
     "metadata": {},
     "output_type": "execute_result"
    }
   ],
   "source": [
    "# dict\n",
    "d = {input(\"Enter name\"):input(\"Enter phone\") for i in range(2)}\n",
    "d"
   ]
  },
  {
   "cell_type": "code",
   "execution_count": 7,
   "id": "87d8f203",
   "metadata": {},
   "outputs": [
    {
     "data": {
      "text/plain": [
       "{1: 1, 2: 4, 3: 9, 4: 16, 5: 25, 6: 36, 7: 49, 8: 64, 9: 81}"
      ]
     },
     "execution_count": 7,
     "metadata": {},
     "output_type": "execute_result"
    }
   ],
   "source": [
    "a = [1,2,3,4,5,6,7,8,9]\n",
    "b = {i:i**2 for i in a}\n",
    "b"
   ]
  },
  {
   "cell_type": "code",
   "execution_count": 8,
   "id": "a10af0f2",
   "metadata": {},
   "outputs": [
    {
     "data": {
      "text/plain": [
       "['.ipynb_checkpoints',\n",
       " 'bill.csv',\n",
       " 'bill.txt',\n",
       " 'billing.csv',\n",
       " 'data.csv',\n",
       " 'data.txt',\n",
       " 'data1.txt',\n",
       " 'dictionary.ipynb',\n",
       " 'exep han.ipynb',\n",
       " 'file.ipynb',\n",
       " 'first_class.ipynb',\n",
       " 'function.ipynb',\n",
       " 'if else.ipynb',\n",
       " 'inheritance.ipynb',\n",
       " 'lambda function.ipynb',\n",
       " 'list.ipynb',\n",
       " 'loop.ipynb',\n",
       " 'mysql.ipynb',\n",
       " 'new_data.csv',\n",
       " 'oop.ipynb',\n",
       " 'pandas.ipynb',\n",
       " 'set.ipynb',\n",
       " 'string.ipynb',\n",
       " 'tuple.ipynb']"
      ]
     },
     "execution_count": 8,
     "metadata": {},
     "output_type": "execute_result"
    }
   ],
   "source": [
    "# os package listdir() mkdir() rmdir() chdir() rename() remove()\n",
    "import os\n",
    "os.listdir()"
   ]
  },
  {
   "cell_type": "code",
   "execution_count": 12,
   "id": "68d2de45",
   "metadata": {},
   "outputs": [],
   "source": [
    "os.mkdir('Myfolder')"
   ]
  },
  {
   "cell_type": "code",
   "execution_count": 11,
   "id": "82664af7",
   "metadata": {},
   "outputs": [],
   "source": [
    "os.rmdir('Myfolder')"
   ]
  },
  {
   "cell_type": "code",
   "execution_count": 13,
   "id": "98ce21fb",
   "metadata": {},
   "outputs": [],
   "source": [
    "try:\n",
    "    os.mkdir('Myfolder')\n",
    "except:\n",
    "    pass"
   ]
  },
  {
   "cell_type": "code",
   "execution_count": 14,
   "id": "8e747e78",
   "metadata": {},
   "outputs": [],
   "source": [
    "os.chdir('Myfolder')"
   ]
  },
  {
   "cell_type": "code",
   "execution_count": 15,
   "id": "5f15f777",
   "metadata": {},
   "outputs": [
    {
     "data": {
      "text/plain": [
       "'C:\\\\Users\\\\Aayush\\\\class_8am_Python\\\\Myfolder'"
      ]
     },
     "execution_count": 15,
     "metadata": {},
     "output_type": "execute_result"
    }
   ],
   "source": [
    "pwd"
   ]
  },
  {
   "cell_type": "code",
   "execution_count": 16,
   "id": "577ef92f",
   "metadata": {},
   "outputs": [
    {
     "name": "stdout",
     "output_type": "stream",
     "text": [
      "C:\\Users\\Aayush\\class_8am_Python\n"
     ]
    }
   ],
   "source": [
    "cd .."
   ]
  },
  {
   "cell_type": "code",
   "execution_count": 17,
   "id": "4ac05e1e",
   "metadata": {},
   "outputs": [],
   "source": [
    "os.rename('Myfolder','myfolder')"
   ]
  },
  {
   "cell_type": "code",
   "execution_count": null,
   "id": "f5f8fe40",
   "metadata": {},
   "outputs": [],
   "source": [
    "# beautifulsoup python"
   ]
  }
 ],
 "metadata": {
  "kernelspec": {
   "display_name": "Python 3 (ipykernel)",
   "language": "python",
   "name": "python3"
  },
  "language_info": {
   "codemirror_mode": {
    "name": "ipython",
    "version": 3
   },
   "file_extension": ".py",
   "mimetype": "text/x-python",
   "name": "python",
   "nbconvert_exporter": "python",
   "pygments_lexer": "ipython3",
   "version": "3.9.12"
  }
 },
 "nbformat": 4,
 "nbformat_minor": 5
}
