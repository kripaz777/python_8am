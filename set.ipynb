{
 "cells": [
  {
   "cell_type": "code",
   "execution_count": 1,
   "id": "3ecae1cf",
   "metadata": {},
   "outputs": [],
   "source": [
    "# set\n",
    "# -No indexing\n",
    "# -unOrdered\n",
    "# -Multiple data no duplicate\n",
    "# -Mutable"
   ]
  },
  {
   "cell_type": "code",
   "execution_count": 2,
   "id": "b07ebc57",
   "metadata": {},
   "outputs": [
    {
     "name": "stdout",
     "output_type": "stream",
     "text": [
      "{1, 2, 3, 4, 5, 6, 7, 8, 9}\n",
      "{'Fish', 'Dog', 'Apple', 'Cat', 'Ball'}\n"
     ]
    }
   ],
   "source": [
    "s = set()\n",
    "s = {1,2,3,4,5,6,7,8,9}\n",
    "t = {\"Apple\",\"Ball\",\"Cat\",\"Dog\",\"Fish\"}\n",
    "print(s)\n",
    "print(t)"
   ]
  },
  {
   "cell_type": "code",
   "execution_count": 3,
   "id": "e6e3f47a",
   "metadata": {},
   "outputs": [
    {
     "data": {
      "text/plain": [
       "{'Apple', 'Ball', 'Cat', 'Dog', 'Fish'}"
      ]
     },
     "execution_count": 3,
     "metadata": {},
     "output_type": "execute_result"
    }
   ],
   "source": [
    "t"
   ]
  },
  {
   "cell_type": "code",
   "execution_count": 4,
   "id": "2dfb4921",
   "metadata": {},
   "outputs": [
    {
     "ename": "TypeError",
     "evalue": "'set' object is not subscriptable",
     "output_type": "error",
     "traceback": [
      "\u001b[1;31m---------------------------------------------------------------------------\u001b[0m",
      "\u001b[1;31mTypeError\u001b[0m                                 Traceback (most recent call last)",
      "Input \u001b[1;32mIn [4]\u001b[0m, in \u001b[0;36m<cell line: 2>\u001b[1;34m()\u001b[0m\n\u001b[0;32m      1\u001b[0m t \u001b[38;5;241m=\u001b[39m {\u001b[38;5;124m\"\u001b[39m\u001b[38;5;124mApple\u001b[39m\u001b[38;5;124m\"\u001b[39m,\u001b[38;5;124m\"\u001b[39m\u001b[38;5;124mBall\u001b[39m\u001b[38;5;124m\"\u001b[39m,\u001b[38;5;124m\"\u001b[39m\u001b[38;5;124mCat\u001b[39m\u001b[38;5;124m\"\u001b[39m,\u001b[38;5;124m\"\u001b[39m\u001b[38;5;124mDog\u001b[39m\u001b[38;5;124m\"\u001b[39m,\u001b[38;5;124m\"\u001b[39m\u001b[38;5;124mFish\u001b[39m\u001b[38;5;124m\"\u001b[39m}\n\u001b[1;32m----> 2\u001b[0m \u001b[43mt\u001b[49m\u001b[43m[\u001b[49m\u001b[38;5;241;43m0\u001b[39;49m\u001b[43m]\u001b[49m\n",
      "\u001b[1;31mTypeError\u001b[0m: 'set' object is not subscriptable"
     ]
    }
   ],
   "source": [
    "t = {\"Apple\",\"Ball\",\"Cat\",\"Dog\",\"Fish\"}\n",
    "t[0]"
   ]
  },
  {
   "cell_type": "code",
   "execution_count": 1,
   "id": "05005571",
   "metadata": {},
   "outputs": [
    {
     "name": "stdout",
     "output_type": "stream",
     "text": [
      "Cat\n",
      "Dog\n",
      "Ball\n",
      "Fish\n",
      "Apple\n"
     ]
    }
   ],
   "source": [
    "t = {\"Apple\",\"Ball\",\"Cat\",\"Dog\",\"Fish\"}\n",
    "for i in t:\n",
    "    print(i)"
   ]
  },
  {
   "cell_type": "code",
   "execution_count": 2,
   "id": "3b4ac3b1",
   "metadata": {},
   "outputs": [
    {
     "data": {
      "text/plain": [
       "{'Apple', 'Ball', 'Cat', 'Dog', 'Fish'}"
      ]
     },
     "execution_count": 2,
     "metadata": {},
     "output_type": "execute_result"
    }
   ],
   "source": [
    "t = {\"Apple\",\"Ball\",\"Cat\",\"Dog\",\"Fish\",\"Apple\"}\n",
    "t"
   ]
  },
  {
   "cell_type": "code",
   "execution_count": 4,
   "id": "5dc53ca6",
   "metadata": {},
   "outputs": [
    {
     "data": {
      "text/plain": [
       "[0, 1, 2, 3, 4, 5, 6, 7, 8, 9]"
      ]
     },
     "execution_count": 4,
     "metadata": {},
     "output_type": "execute_result"
    }
   ],
   "source": [
    "l = [1,2,3,4,5,6,2,3,4,5,6,7,8,9,0,3,4,6]\n",
    "s = set(l)\n",
    "l = list(s)\n",
    "l"
   ]
  },
  {
   "cell_type": "code",
   "execution_count": 10,
   "id": "978d90c4",
   "metadata": {},
   "outputs": [
    {
     "data": {
      "text/plain": [
       "set"
      ]
     },
     "execution_count": 10,
     "metadata": {},
     "output_type": "execute_result"
    }
   ],
   "source": [
    "t = {1,}\n",
    "type(t)"
   ]
  },
  {
   "cell_type": "code",
   "execution_count": 13,
   "id": "378e7ffe",
   "metadata": {},
   "outputs": [
    {
     "name": "stdout",
     "output_type": "stream",
     "text": [
      "Enter n = 5\n",
      "Enter x = Apple\n",
      "Enter x = Ball\n",
      "Enter x = Cat\n",
      "Enter x = Dog\n",
      "Enter x = Fish\n",
      "{'Cat', 'Dog', 'Fish', 'Ball', 'Apple'}\n"
     ]
    }
   ],
   "source": [
    "#Adding values in set\n",
    "s = set()\n",
    "n = int(input(\"Enter n = \"))\n",
    "for i in range(n):\n",
    "    x = input(\"Enter x = \")\n",
    "    s.add(x)\n",
    "print(s)"
   ]
  },
  {
   "cell_type": "code",
   "execution_count": 14,
   "id": "03b2d1db",
   "metadata": {},
   "outputs": [
    {
     "ename": "AttributeError",
     "evalue": "'set' object has no attribute 'replace'",
     "output_type": "error",
     "traceback": [
      "\u001b[1;31m---------------------------------------------------------------------------\u001b[0m",
      "\u001b[1;31mAttributeError\u001b[0m                            Traceback (most recent call last)",
      "Input \u001b[1;32mIn [14]\u001b[0m, in \u001b[0;36m<cell line: 2>\u001b[1;34m()\u001b[0m\n\u001b[0;32m      1\u001b[0m a \u001b[38;5;241m=\u001b[39m {\u001b[38;5;124m'\u001b[39m\u001b[38;5;124mCat\u001b[39m\u001b[38;5;124m'\u001b[39m, \u001b[38;5;124m'\u001b[39m\u001b[38;5;124mDog\u001b[39m\u001b[38;5;124m'\u001b[39m, \u001b[38;5;124m'\u001b[39m\u001b[38;5;124mFish\u001b[39m\u001b[38;5;124m'\u001b[39m, \u001b[38;5;124m'\u001b[39m\u001b[38;5;124mBall\u001b[39m\u001b[38;5;124m'\u001b[39m, \u001b[38;5;124m'\u001b[39m\u001b[38;5;124mApple\u001b[39m\u001b[38;5;124m'\u001b[39m}\n\u001b[1;32m----> 2\u001b[0m \u001b[43ma\u001b[49m\u001b[38;5;241;43m.\u001b[39;49m\u001b[43mreplace\u001b[49m(\u001b[38;5;124m'\u001b[39m\u001b[38;5;124mCat\u001b[39m\u001b[38;5;124m'\u001b[39m,\u001b[38;5;124m'\u001b[39m\u001b[38;5;124mcat\u001b[39m\u001b[38;5;124m'\u001b[39m)\n\u001b[0;32m      3\u001b[0m a\n",
      "\u001b[1;31mAttributeError\u001b[0m: 'set' object has no attribute 'replace'"
     ]
    }
   ],
   "source": [
    "a = {'Cat', 'Dog', 'Fish', 'Ball', 'Apple'}\n",
    "a.replace('Cat','cat')\n",
    "a"
   ]
  },
  {
   "cell_type": "code",
   "execution_count": 15,
   "id": "db5111c5",
   "metadata": {},
   "outputs": [
    {
     "data": {
      "text/plain": [
       "{'Apple', 'Ball', 'Dog', 'Fish'}"
      ]
     },
     "execution_count": 15,
     "metadata": {},
     "output_type": "execute_result"
    }
   ],
   "source": [
    "#remove data from set\n",
    "a = {'Cat', 'Dog', 'Fish', 'Ball', 'Apple'}\n",
    "a.remove('Cat')\n",
    "a"
   ]
  },
  {
   "cell_type": "code",
   "execution_count": null,
   "id": "a64a0311",
   "metadata": {},
   "outputs": [],
   "source": [
    "# No + *"
   ]
  },
  {
   "cell_type": "code",
   "execution_count": 16,
   "id": "3db78f01",
   "metadata": {},
   "outputs": [
    {
     "data": {
      "text/plain": [
       "{0, 1, 2, 3, 4, 5, 6, 7, 8, 9, 'Apple', 'Ball', 'Cat', 'Dog', 'Fish'}"
      ]
     },
     "execution_count": 16,
     "metadata": {},
     "output_type": "execute_result"
    }
   ],
   "source": [
    "#update\n",
    "a = {'Cat', 'Dog', 'Fish', 'Ball', 'Apple'}\n",
    "b = {1,2,3,4,5,6,7,8,9,0}\n",
    "a.update(b)\n",
    "a"
   ]
  },
  {
   "cell_type": "code",
   "execution_count": null,
   "id": "1e14ceeb",
   "metadata": {},
   "outputs": [],
   "source": []
  },
  {
   "cell_type": "code",
   "execution_count": 23,
   "id": "58601fd3",
   "metadata": {},
   "outputs": [
    {
     "name": "stdout",
     "output_type": "stream",
     "text": [
      "Common people working on both companies {'Ram', 'Mike', 'Akash'}\n",
      "all unique people working on  companies {'Jobs', 'Satya', 'Sam', 'John', 'Hari', 'Bill', 'Gates', 'Samrat', 'Mike', 'Akash', 'Nabin', 'Ram', 'Steav', 'Sameer'}\n",
      "People working only on apple  {'Jobs', 'John', 'Hari', 'Steav', 'Sameer'}\n",
      "People working only on ms  {'Satya', 'Sam', 'Bill', 'Gates', 'Samrat', 'Nabin'}\n",
      "The people not in apple and ms =  {'abc', 'xyz'}\n"
     ]
    }
   ],
   "source": [
    "#intersection()\n",
    "U = {'Jobs', 'Satya', 'Sam', 'John', 'Hari', 'Bill', 'Gates', \n",
    "     'Samrat', 'Mike', 'Akash', 'Nabin', 'Ram', 'Steav', 'Sameer','abc','xyz'}\n",
    "\n",
    "\n",
    "apple = {\"Steav\",\"Jobs\",\"Hari\",\"Ram\",\"Sameer\",\"Akash\",\"John\",\"Mike\"}\n",
    "ms = {\"Bill\",\"Gates\",\"Satya\",\"Mike\",\"Akash\",\"Nabin\",\"Samrat\",\"Sam\",\"Ram\"}\n",
    "\n",
    "intr = apple.intersection(ms)\n",
    "print(\"Common people working on both companies\", intr)\n",
    "\n",
    "\n",
    "uni = apple.union(ms)\n",
    "print(\"all unique people working on  companies\", uni)\n",
    "\n",
    "\n",
    "only_apple = apple - ms\n",
    "print(\"People working only on apple \",only_apple)\n",
    "\n",
    "only_ms = ms - apple\n",
    "print(\"People working only on ms \",only_ms)\n",
    "\n",
    "\n",
    "not_apple_ms = U - uni\n",
    "print(\"The people not in apple and ms = \",not_apple_ms)"
   ]
  },
  {
   "cell_type": "code",
   "execution_count": 24,
   "id": "81c0628a",
   "metadata": {},
   "outputs": [
    {
     "data": {
      "text/plain": [
       "False"
      ]
     },
     "execution_count": 24,
     "metadata": {},
     "output_type": "execute_result"
    }
   ],
   "source": [
    "apple.isdisjoint(ms)"
   ]
  },
  {
   "cell_type": "code",
   "execution_count": 25,
   "id": "4ad8c6e9",
   "metadata": {},
   "outputs": [
    {
     "data": {
      "text/plain": [
       "True"
      ]
     },
     "execution_count": 25,
     "metadata": {},
     "output_type": "execute_result"
    }
   ],
   "source": [
    "a = {1,2,3}\n",
    "b = {1,2,3,4,5,6,7,8,9,0}\n",
    "a.issubset(b)"
   ]
  },
  {
   "cell_type": "code",
   "execution_count": 28,
   "id": "dcf607c5",
   "metadata": {},
   "outputs": [
    {
     "data": {
      "text/plain": [
       "True"
      ]
     },
     "execution_count": 28,
     "metadata": {},
     "output_type": "execute_result"
    }
   ],
   "source": [
    "b.issuperset(a)"
   ]
  },
  {
   "cell_type": "code",
   "execution_count": 29,
   "id": "40e54f80",
   "metadata": {},
   "outputs": [],
   "source": [
    "# No mutable datatype inside set\n"
   ]
  },
  {
   "cell_type": "code",
   "execution_count": 30,
   "id": "deb69afd",
   "metadata": {},
   "outputs": [
    {
     "data": {
      "text/plain": [
       "{'Bill', 'Gates', 'Nabin', 'Sam', 'Samrat', 'Satya'}"
      ]
     },
     "execution_count": 30,
     "metadata": {},
     "output_type": "execute_result"
    }
   ],
   "source": [
    "a = {'Satya', 'Sam', 'Bill', 'Gates', 'Samrat', 'Nabin'} # => str is imutable\n",
    "a"
   ]
  },
  {
   "cell_type": "code",
   "execution_count": 31,
   "id": "49cec728",
   "metadata": {},
   "outputs": [
    {
     "data": {
      "text/plain": [
       "{('Gates', 'Samrat', 'Nabin'), ('Satya', 'Sam', 'Bill')}"
      ]
     },
     "execution_count": 31,
     "metadata": {},
     "output_type": "execute_result"
    }
   ],
   "source": [
    "a = {('Satya', 'Sam', 'Bill',),( 'Gates', 'Samrat', 'Nabin')} # => tuple is imutable\n",
    "a"
   ]
  },
  {
   "cell_type": "code",
   "execution_count": 32,
   "id": "afefb28b",
   "metadata": {},
   "outputs": [
    {
     "ename": "TypeError",
     "evalue": "unhashable type: 'list'",
     "output_type": "error",
     "traceback": [
      "\u001b[1;31m---------------------------------------------------------------------------\u001b[0m",
      "\u001b[1;31mTypeError\u001b[0m                                 Traceback (most recent call last)",
      "Input \u001b[1;32mIn [32]\u001b[0m, in \u001b[0;36m<cell line: 1>\u001b[1;34m()\u001b[0m\n\u001b[1;32m----> 1\u001b[0m a \u001b[38;5;241m=\u001b[39m {[\u001b[38;5;124m'\u001b[39m\u001b[38;5;124mSatya\u001b[39m\u001b[38;5;124m'\u001b[39m, \u001b[38;5;124m'\u001b[39m\u001b[38;5;124mSam\u001b[39m\u001b[38;5;124m'\u001b[39m, \u001b[38;5;124m'\u001b[39m\u001b[38;5;124mBill\u001b[39m\u001b[38;5;124m'\u001b[39m,],[ \u001b[38;5;124m'\u001b[39m\u001b[38;5;124mGates\u001b[39m\u001b[38;5;124m'\u001b[39m, \u001b[38;5;124m'\u001b[39m\u001b[38;5;124mSamrat\u001b[39m\u001b[38;5;124m'\u001b[39m, \u001b[38;5;124m'\u001b[39m\u001b[38;5;124mNabin\u001b[39m\u001b[38;5;124m'\u001b[39m]} \u001b[38;5;66;03m# => list is imutable\u001b[39;00m\n\u001b[0;32m      2\u001b[0m a\n",
      "\u001b[1;31mTypeError\u001b[0m: unhashable type: 'list'"
     ]
    }
   ],
   "source": [
    "a = {['Satya', 'Sam', 'Bill',],[ 'Gates', 'Samrat', 'Nabin']} # => list is mutable\n",
    "a"
   ]
  },
  {
   "cell_type": "code",
   "execution_count": 33,
   "id": "d369099f",
   "metadata": {},
   "outputs": [
    {
     "ename": "TypeError",
     "evalue": "unhashable type: 'set'",
     "output_type": "error",
     "traceback": [
      "\u001b[1;31m---------------------------------------------------------------------------\u001b[0m",
      "\u001b[1;31mTypeError\u001b[0m                                 Traceback (most recent call last)",
      "Input \u001b[1;32mIn [33]\u001b[0m, in \u001b[0;36m<cell line: 1>\u001b[1;34m()\u001b[0m\n\u001b[1;32m----> 1\u001b[0m a \u001b[38;5;241m=\u001b[39m {{\u001b[38;5;124m'\u001b[39m\u001b[38;5;124mSatya\u001b[39m\u001b[38;5;124m'\u001b[39m, \u001b[38;5;124m'\u001b[39m\u001b[38;5;124mSam\u001b[39m\u001b[38;5;124m'\u001b[39m, \u001b[38;5;124m'\u001b[39m\u001b[38;5;124mBill\u001b[39m\u001b[38;5;124m'\u001b[39m,},{ \u001b[38;5;124m'\u001b[39m\u001b[38;5;124mGates\u001b[39m\u001b[38;5;124m'\u001b[39m, \u001b[38;5;124m'\u001b[39m\u001b[38;5;124mSamrat\u001b[39m\u001b[38;5;124m'\u001b[39m, \u001b[38;5;124m'\u001b[39m\u001b[38;5;124mNabin\u001b[39m\u001b[38;5;124m'\u001b[39m}} \u001b[38;5;66;03m# => list is imutable\u001b[39;00m\n\u001b[0;32m      2\u001b[0m a\n",
      "\u001b[1;31mTypeError\u001b[0m: unhashable type: 'set'"
     ]
    }
   ],
   "source": [
    "a = {{'Satya', 'Sam', 'Bill',},{ 'Gates', 'Samrat', 'Nabin'}} # => set is mutable\n",
    "a"
   ]
  },
  {
   "cell_type": "code",
   "execution_count": 34,
   "id": "53b72958",
   "metadata": {},
   "outputs": [
    {
     "ename": "TypeError",
     "evalue": "unhashable type: 'dict'",
     "output_type": "error",
     "traceback": [
      "\u001b[1;31m---------------------------------------------------------------------------\u001b[0m",
      "\u001b[1;31mTypeError\u001b[0m                                 Traceback (most recent call last)",
      "Input \u001b[1;32mIn [34]\u001b[0m, in \u001b[0;36m<cell line: 1>\u001b[1;34m()\u001b[0m\n\u001b[1;32m----> 1\u001b[0m a \u001b[38;5;241m=\u001b[39m {{\u001b[38;5;241m1\u001b[39m:\u001b[38;5;241m1\u001b[39m},{\u001b[38;5;241m2\u001b[39m:\u001b[38;5;241m4\u001b[39m},{\u001b[38;5;241m3\u001b[39m:\u001b[38;5;241m9\u001b[39m}}  \u001b[38;5;66;03m# => set is mutable\u001b[39;00m\n\u001b[0;32m      2\u001b[0m a\n",
      "\u001b[1;31mTypeError\u001b[0m: unhashable type: 'dict'"
     ]
    }
   ],
   "source": [
    "a = {{1:1},{2:4},{3:9}}  # => set is mutable\n",
    "a"
   ]
  },
  {
   "cell_type": "code",
   "execution_count": null,
   "id": "9efe5d1a",
   "metadata": {},
   "outputs": [],
   "source": []
  }
 ],
 "metadata": {
  "kernelspec": {
   "display_name": "Python 3 (ipykernel)",
   "language": "python",
   "name": "python3"
  },
  "language_info": {
   "codemirror_mode": {
    "name": "ipython",
    "version": 3
   },
   "file_extension": ".py",
   "mimetype": "text/x-python",
   "name": "python",
   "nbconvert_exporter": "python",
   "pygments_lexer": "ipython3",
   "version": "3.9.12"
  }
 },
 "nbformat": 4,
 "nbformat_minor": 5
}
