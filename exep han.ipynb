{
 "cells": [
  {
   "cell_type": "code",
   "execution_count": 1,
   "id": "1e8a5d52",
   "metadata": {},
   "outputs": [],
   "source": [
    "# try:\n",
    "#     <operation>\n",
    "# except:\n",
    "#     <operation>"
   ]
  },
  {
   "cell_type": "code",
   "execution_count": 4,
   "id": "e75c3a5f",
   "metadata": {},
   "outputs": [
    {
     "name": "stdout",
     "output_type": "stream",
     "text": [
      "Enter age = adasdas\n",
      "age should be in int\n"
     ]
    }
   ],
   "source": [
    "try:\n",
    "    age = int(input(\"Enter age = \"))\n",
    "except:\n",
    "    print(\"age should be in int\")"
   ]
  },
  {
   "cell_type": "code",
   "execution_count": 2,
   "id": "d458b4fb",
   "metadata": {},
   "outputs": [
    {
     "name": "stdout",
     "output_type": "stream",
     "text": [
      "Enter a = addas\n",
      "Some error occured. Please try again\n"
     ]
    }
   ],
   "source": [
    "try:\n",
    "    a = int(input(\"Enter a = \"))\n",
    "    b = int(input(\"Enter b = \"))\n",
    "    c = a/b\n",
    "except:\n",
    "    print(\"Some error occured. Please try again\")"
   ]
  },
  {
   "cell_type": "code",
   "execution_count": 2,
   "id": "47ae5ba6",
   "metadata": {},
   "outputs": [
    {
     "name": "stdout",
     "output_type": "stream",
     "text": [
      "Enter a = Ten\n",
      "values should be in int. Please try again\n"
     ]
    }
   ],
   "source": [
    "try:\n",
    "    a = int(input(\"Enter a = \"))\n",
    "    b = int(input(\"Enter b = \"))\n",
    "    c = a/b\n",
    "    \n",
    "except ValueError:\n",
    "    print(\"values should be in int. Please try again\")\n",
    "except ZeroDivisionError:\n",
    "    print(\"value of b can not be zero. Please try again\")"
   ]
  },
  {
   "cell_type": "code",
   "execution_count": 4,
   "id": "8bce04a4",
   "metadata": {},
   "outputs": [
    {
     "name": "stdout",
     "output_type": "stream",
     "text": [
      "The file is already created\n"
     ]
    }
   ],
   "source": [
    "try:\n",
    "    file = open('data.txt','x')\n",
    "    file.close()\n",
    "except FileExistsError:\n",
    "    print(\"The file is already created\")"
   ]
  },
  {
   "cell_type": "code",
   "execution_count": null,
   "id": "5c930902",
   "metadata": {},
   "outputs": [],
   "source": [
    "# try:\n",
    "#     <operation>\n",
    "# except:\n",
    "#     <operation>\n",
    "# else:\n",
    "#     <operation>"
   ]
  },
  {
   "cell_type": "code",
   "execution_count": 6,
   "id": "c12b0c79",
   "metadata": {},
   "outputs": [
    {
     "name": "stdout",
     "output_type": "stream",
     "text": [
      "1.Hello World\n",
      "2.Hello World\n",
      "3.Hello World\n",
      "4.Hello World\n",
      "5.Hello World\n",
      "6.Hello World\n"
     ]
    }
   ],
   "source": [
    "try:\n",
    "    file = open('data.txt','r')\n",
    "    y = file.read()\n",
    "except FileExistsError:\n",
    "    print(\"The file is already created\")\n",
    "else:\n",
    "    print(y)\n",
    "    file.close()"
   ]
  },
  {
   "cell_type": "code",
   "execution_count": 8,
   "id": "49cbb7d7",
   "metadata": {},
   "outputs": [
    {
     "ename": "AssertionError",
     "evalue": "",
     "output_type": "error",
     "traceback": [
      "\u001b[1;31m---------------------------------------------------------------------------\u001b[0m",
      "\u001b[1;31mAssertionError\u001b[0m                            Traceback (most recent call last)",
      "Input \u001b[1;32mIn [8]\u001b[0m, in \u001b[0;36m<cell line: 2>\u001b[1;34m()\u001b[0m\n\u001b[0;32m      1\u001b[0m a \u001b[38;5;241m=\u001b[39m \u001b[38;5;241m10\u001b[39m\n\u001b[1;32m----> 2\u001b[0m \u001b[38;5;28;01massert\u001b[39;00m a\u001b[38;5;241m>\u001b[39m\u001b[38;5;241m20\u001b[39m\n",
      "\u001b[1;31mAssertionError\u001b[0m: "
     ]
    }
   ],
   "source": [
    "a = 10\n",
    "assert a>20"
   ]
  },
  {
   "cell_type": "code",
   "execution_count": 11,
   "id": "40746d3f",
   "metadata": {},
   "outputs": [
    {
     "name": "stdout",
     "output_type": "stream",
     "text": [
      "Enter age = 9\n",
      "You are under age.\n"
     ]
    }
   ],
   "source": [
    "try:\n",
    "    age = int(input(\"Enter age = \"))\n",
    "    assert age > 10\n",
    "except ValueError:\n",
    "    print(\"values should be in int. Please try again\")\n",
    "except AssertionError:\n",
    "    print(\"You are under age.\")\n",
    "else:\n",
    "    print(\"You are welcome\")"
   ]
  },
  {
   "cell_type": "code",
   "execution_count": 19,
   "id": "0f8f45e4",
   "metadata": {},
   "outputs": [
    {
     "name": "stdout",
     "output_type": "stream",
     "text": [
      "Enter username = aasdadasd\n",
      "Enter password = adsads\n",
      "Username or Password does not match.\n",
      "Enter username = admin\n",
      "Enter password = admin\n",
      "You are welcome. You are logedin in 2 attempt\n"
     ]
    }
   ],
   "source": [
    "username = \"admin\"\n",
    "password = \"admin\"\n",
    "c = 1\n",
    "def login():\n",
    "    global c\n",
    "    try:\n",
    "        username1 = input(\"Enter username = \")\n",
    "        password1 = input(\"Enter password = \")\n",
    "        assert (username == username1) and (password == password1)\n",
    "\n",
    "    except AssertionError:\n",
    "        print(\"Username or Password does not match.\")\n",
    "        c = c+1\n",
    "        login()\n",
    "    else:\n",
    "        print(f\"You are welcome. You are logedin in {c} attempt\")\n",
    "\n",
    "login()"
   ]
  },
  {
   "cell_type": "code",
   "execution_count": 22,
   "id": "d853f386",
   "metadata": {},
   "outputs": [
    {
     "ename": "AssertionError",
     "evalue": "",
     "output_type": "error",
     "traceback": [
      "\u001b[1;31m---------------------------------------------------------------------------\u001b[0m",
      "\u001b[1;31mAssertionError\u001b[0m                            Traceback (most recent call last)",
      "Input \u001b[1;32mIn [22]\u001b[0m, in \u001b[0;36m<cell line: 1>\u001b[1;34m()\u001b[0m\n\u001b[1;32m----> 1\u001b[0m \u001b[38;5;28;01mraise\u001b[39;00m \u001b[38;5;167;01mAssertionError\u001b[39;00m\n",
      "\u001b[1;31mAssertionError\u001b[0m: "
     ]
    }
   ],
   "source": [
    "raise AssertionError"
   ]
  },
  {
   "cell_type": "code",
   "execution_count": null,
   "id": "4a9f9616",
   "metadata": {},
   "outputs": [],
   "source": [
    "try:\n",
    "    a = int(input(\"Enter a = \"))\n",
    "    b = int(input(\"Enter b = \"))\n",
    "    if b ==0:\n",
    "        raise AssertionError\n",
    "    c = a/b\n",
    "except ValueError:\n",
    "    print(\"Some error occured. Please try again\")\n",
    "except AssertionError:\n",
    "        print(\"value of b can not be zero\")"
   ]
  },
  {
   "cell_type": "code",
   "execution_count": 30,
   "id": "d0311fc9",
   "metadata": {},
   "outputs": [
    {
     "name": "stdout",
     "output_type": "stream",
     "text": [
      "Error\n"
     ]
    }
   ],
   "source": [
    "try:\n",
    "    a = nt(input(\"Enter a = \"))\n",
    "except:\n",
    "    print(\"Error\")"
   ]
  },
  {
   "cell_type": "code",
   "execution_count": null,
   "id": "40cb33a2",
   "metadata": {},
   "outputs": [],
   "source": []
  }
 ],
 "metadata": {
  "kernelspec": {
   "display_name": "Python 3 (ipykernel)",
   "language": "python",
   "name": "python3"
  },
  "language_info": {
   "codemirror_mode": {
    "name": "ipython",
    "version": 3
   },
   "file_extension": ".py",
   "mimetype": "text/x-python",
   "name": "python",
   "nbconvert_exporter": "python",
   "pygments_lexer": "ipython3",
   "version": "3.9.12"
  }
 },
 "nbformat": 4,
 "nbformat_minor": 5
}
