{
 "cells": [
  {
   "cell_type": "code",
   "execution_count": 1,
   "id": "e9610232",
   "metadata": {},
   "outputs": [],
   "source": [
    "# file = open('<file_name>','<mode>')e\n",
    "# <operations>\n",
    "# file.close()\n",
    "\n",
    "\n",
    "# with open('<file_name>','<mode>'):\n",
    "#     <operation>\n",
    "\n",
    "# modes\n",
    "# r -> read\n",
    "# w -> write\n",
    "# a -> append\n",
    "# x ->create"
   ]
  },
  {
   "cell_type": "code",
   "execution_count": 3,
   "id": "46259b08",
   "metadata": {},
   "outputs": [],
   "source": [
    "file = open('data.txt','x')\n",
    "file.close()"
   ]
  },
  {
   "cell_type": "code",
   "execution_count": 6,
   "id": "ff3ea559",
   "metadata": {},
   "outputs": [
    {
     "name": "stdout",
     "output_type": "stream",
     "text": [
      "1.Hello World\n",
      "2.Hello World\n",
      "3.Hello World\n",
      "4.Hello World\n",
      "5.Hello World\n",
      "6.Hello World\n",
      "<class 'str'>\n"
     ]
    }
   ],
   "source": [
    "file = open('data.txt','r')\n",
    "x = file.read()\n",
    "print(x)\n",
    "print(type(x))\n",
    "file.close()"
   ]
  },
  {
   "cell_type": "code",
   "execution_count": 9,
   "id": "a0cbbd72",
   "metadata": {},
   "outputs": [
    {
     "name": "stdout",
     "output_type": "stream",
     "text": [
      "Enter line no = 1\n",
      "1.Hello World\n"
     ]
    }
   ],
   "source": [
    "y = x.split('\\n')\n",
    "n = int(input(\"Enter line no = \"))\n",
    "print(y[n-1])"
   ]
  },
  {
   "cell_type": "code",
   "execution_count": 10,
   "id": "867a26e9",
   "metadata": {},
   "outputs": [],
   "source": [
    "file = open('data1.txt','w')\n",
    "file.write('Hello World')\n",
    "file.close()"
   ]
  },
  {
   "cell_type": "code",
   "execution_count": 11,
   "id": "d1b42e3d",
   "metadata": {},
   "outputs": [
    {
     "name": "stdout",
     "output_type": "stream",
     "text": [
      "Enter n = 2\n",
      "Enter name = Momo\n",
      "Enter price = 300\n",
      "Enter quantity = 3\n",
      "Enter name = Coke\n",
      "Enter price = 100\n",
      "Enter quantity = 3\n",
      "Momo 300 3.0 900.0\n",
      "Coke 100 3.0 300.0\n",
      "\n"
     ]
    }
   ],
   "source": [
    "bill = \"\"\n",
    "n = int(input(\"Enter n = \"))\n",
    "for i in range(n):\n",
    "    name = input(\"Enter name = \")\n",
    "    price = int(input(\"Enter price = \"))\n",
    "    quantity = float(input(\"Enter quantity = \"))\n",
    "    total = price * quantity\n",
    "    bill = bill + f\"{name} {price} {quantity} {total}\\n\"\n",
    "    \n",
    "print(bill)\n",
    "file = open('bill.txt','w')\n",
    "file.write(bill)\n",
    "file.close()"
   ]
  },
  {
   "cell_type": "code",
   "execution_count": 13,
   "id": "52a3f913",
   "metadata": {},
   "outputs": [
    {
     "name": "stdout",
     "output_type": "stream",
     "text": [
      "Momo 300 3.0 900.0\n",
      "Coke 100 3.0 300.0\n",
      "\n"
     ]
    }
   ],
   "source": [
    "file = open('bill.txt','r')\n",
    "x = file.read()\n",
    "print(x)\n",
    "file.close()"
   ]
  },
  {
   "cell_type": "code",
   "execution_count": 20,
   "id": "76396a73",
   "metadata": {},
   "outputs": [
    {
     "data": {
      "text/plain": [
       "[['Momo', 300.0, 3.0, 900.0], ['Coke', 100.0, 3.0, 300.0]]"
      ]
     },
     "execution_count": 20,
     "metadata": {},
     "output_type": "execute_result"
    }
   ],
   "source": [
    "bill = []\n",
    "y = x.split('\\n')[:-1]\n",
    "for i in y:\n",
    "    i = i.split()\n",
    "    name = i[0]\n",
    "    price = float(i[1])\n",
    "    qty = float(i[2])\n",
    "    total = float(i[3])\n",
    "    bill.append([name,price,qty,total])\n",
    "    \n",
    "bill"
   ]
  },
  {
   "cell_type": "code",
   "execution_count": 23,
   "id": "92f04ee7",
   "metadata": {},
   "outputs": [
    {
     "data": {
      "text/plain": [
       "1200.0"
      ]
     },
     "execution_count": 23,
     "metadata": {},
     "output_type": "execute_result"
    }
   ],
   "source": [
    "s = 0\n",
    "for i in bill:\n",
    "    s = s + i[-1]\n",
    "    \n",
    "s"
   ]
  },
  {
   "cell_type": "code",
   "execution_count": 4,
   "id": "62997a43",
   "metadata": {},
   "outputs": [],
   "source": [
    "file = open('bill.csv','w')\n",
    "file.write('name,price,quantity,total\\n')\n",
    "file.close()"
   ]
  },
  {
   "cell_type": "code",
   "execution_count": 5,
   "id": "3cd8d81b",
   "metadata": {},
   "outputs": [
    {
     "name": "stdout",
     "output_type": "stream",
     "text": [
      "Enter n = 2\n",
      "Enter name = Momo\n",
      "Enter price = 200\n",
      "Enter quantity = 3\n",
      "Enter name = Coke\n",
      "Enter price = 100\n",
      "Enter quantity = 4\n",
      "Momo,200,3.0,600.0\n",
      "Coke,100,4.0,400.0\n",
      "\n"
     ]
    }
   ],
   "source": [
    "bill = \"\"\n",
    "n = int(input(\"Enter n = \"))\n",
    "for i in range(n):\n",
    "    name = input(\"Enter name = \")\n",
    "    price = int(input(\"Enter price = \"))\n",
    "    quantity = float(input(\"Enter quantity = \"))\n",
    "    total = price * quantity\n",
    "    bill = bill + f\"{name},{price},{quantity},{total}\\n\"\n",
    "    \n",
    "print(bill)\n",
    "file = open('bill.csv','a')\n",
    "file.write(bill)\n",
    "file.close()"
   ]
  },
  {
   "cell_type": "code",
   "execution_count": 6,
   "id": "6a8eef79",
   "metadata": {},
   "outputs": [],
   "source": [
    "# writing list into csv file\n",
    "import csv\n",
    "l = [['name','price','quantity','total'],\n",
    "     ['Momo', 300.0, 3.0, 900.0],\n",
    "     ['Coke', 100.0, 3.0, 300.0],]\n",
    "file = open('billing.csv','w')\n",
    "x = csv.writer(file)\n",
    "x.writerows(l)\n",
    "file.close()"
   ]
  },
  {
   "cell_type": "code",
   "execution_count": 10,
   "id": "0f5c6a35",
   "metadata": {},
   "outputs": [
    {
     "name": "stdout",
     "output_type": "stream",
     "text": [
      "Enter name = Chowmin\n",
      "Enter price = 100\n",
      "Enter qty = 2\n",
      "Press Enter for next product = \n",
      "Enter name = Pizza\n",
      "Enter price = 300\n",
      "Enter qty = 2\n",
      "Press Enter for next product = \n",
      "Enter name = Burger\n",
      "Enter price = 300\n",
      "Enter qty = 2\n",
      "Press Enter for next product = ssdf\n"
     ]
    }
   ],
   "source": [
    "file = open('billing.csv','a')\n",
    "x = csv.writer(file)\n",
    "def entry():\n",
    "    name = input(\"Enter name = \")\n",
    "    price = int(input(\"Enter price = \"))\n",
    "    qty = float(input(\"Enter qty = \"))\n",
    "    total = price*qty\n",
    "    x.writerows(l)\n",
    "    z = input(\"Press Enter for next product = \")\n",
    "    if z == '':\n",
    "        entry()\n",
    "        \n",
    "entry()\n",
    "file.close()"
   ]
  },
  {
   "cell_type": "code",
   "execution_count": null,
   "id": "833856e4",
   "metadata": {},
   "outputs": [],
   "source": []
  }
 ],
 "metadata": {
  "kernelspec": {
   "display_name": "Python 3 (ipykernel)",
   "language": "python",
   "name": "python3"
  },
  "language_info": {
   "codemirror_mode": {
    "name": "ipython",
    "version": 3
   },
   "file_extension": ".py",
   "mimetype": "text/x-python",
   "name": "python",
   "nbconvert_exporter": "python",
   "pygments_lexer": "ipython3",
   "version": "3.9.12"
  }
 },
 "nbformat": 4,
 "nbformat_minor": 5
}
