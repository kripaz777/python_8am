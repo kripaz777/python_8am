{
 "cells": [
  {
   "cell_type": "code",
   "execution_count": 1,
   "id": "077ee350",
   "metadata": {},
   "outputs": [],
   "source": [
    "# Pre defined function\n",
    "# print() input() type() list() tuple() dict() set() str()"
   ]
  },
  {
   "cell_type": "code",
   "execution_count": 2,
   "id": "fc3edfdd",
   "metadata": {},
   "outputs": [],
   "source": [
    "# def <function_name>():\n",
    "#     <operation>\n",
    "    \n",
    "    \n",
    "# <function_name>()"
   ]
  },
  {
   "cell_type": "code",
   "execution_count": 5,
   "id": "4958a14c",
   "metadata": {},
   "outputs": [
    {
     "name": "stdout",
     "output_type": "stream",
     "text": [
      "Hello World\n"
     ]
    }
   ],
   "source": [
    "# function without argument and without return type\n",
    "\n",
    "def hello():                   #defining function\n",
    "    print('Hello World')\n",
    "    \n",
    "hello()                        #calling function"
   ]
  },
  {
   "cell_type": "code",
   "execution_count": 9,
   "id": "9db4975f",
   "metadata": {},
   "outputs": [
    {
     "name": "stdout",
     "output_type": "stream",
     "text": [
      "Enter l  =100\n",
      "Enter b  =23\n",
      "2300\n"
     ]
    }
   ],
   "source": [
    "# function without argument and without return type\n",
    "\n",
    "def cal():\n",
    "    l = int(input(\"Enter l  =\"))           #local variable\n",
    "    b = int(input(\"Enter b  =\"))           #local variable\n",
    "    a = l*b\n",
    "    print(a)\n",
    "    \n",
    "cal()"
   ]
  },
  {
   "cell_type": "code",
   "execution_count": 1,
   "id": "d78bbc5f",
   "metadata": {},
   "outputs": [
    {
     "name": "stdout",
     "output_type": "stream",
     "text": [
      "Enter l  =100\n",
      "Enter b  =2\n",
      "200\n"
     ]
    },
    {
     "ename": "NameError",
     "evalue": "name 'l' is not defined",
     "output_type": "error",
     "traceback": [
      "\u001b[1;31m---------------------------------------------------------------------------\u001b[0m",
      "\u001b[1;31mNameError\u001b[0m                                 Traceback (most recent call last)",
      "Input \u001b[1;32mIn [1]\u001b[0m, in \u001b[0;36m<cell line: 8>\u001b[1;34m()\u001b[0m\n\u001b[0;32m      5\u001b[0m     \u001b[38;5;28mprint\u001b[39m(a)\n\u001b[0;32m      7\u001b[0m cal()\n\u001b[1;32m----> 8\u001b[0m \u001b[38;5;28mprint\u001b[39m(\u001b[43ml\u001b[49m,b)\n",
      "\u001b[1;31mNameError\u001b[0m: name 'l' is not defined"
     ]
    }
   ],
   "source": [
    "# function without argument and without return type\n",
    "\n",
    "def cal():\n",
    "    l = int(input(\"Enter l  =\"))           #local variable\n",
    "    b = int(input(\"Enter b  =\"))           #local variable\n",
    "    a = l*b\n",
    "    print(a)\n",
    "    \n",
    "cal()\n"
   ]
  },
  {
   "cell_type": "code",
   "execution_count": null,
   "id": "e58d1468",
   "metadata": {},
   "outputs": [],
   "source": [
    "# function without argument and without return type\n",
    "\n",
    "l = int(input(\"Enter l  =\"))           #global variable\n",
    "b = int(input(\"Enter b  =\"))           #global variable\n",
    "\n",
    "def cal():\n",
    "    a = l*b\n",
    "    print(a)\n",
    "    \n",
    "cal()"
   ]
  },
  {
   "cell_type": "code",
   "execution_count": null,
   "id": "7998bdee",
   "metadata": {},
   "outputs": [],
   "source": [
    "# function without argument and without return type\n",
    "def cal():\n",
    "    global l,b\n",
    "    l = int(input(\"Enter l  =\"))           #global variable\n",
    "    b = int(input(\"Enter b  =\"))           #global variable\n",
    "    a = l*b\n",
    "    print(a)\n",
    "    \n",
    "cal()\n",
    "print(l,b)"
   ]
  },
  {
   "cell_type": "code",
   "execution_count": 2,
   "id": "07a5099b",
   "metadata": {},
   "outputs": [],
   "source": [
    "# function without argument and without return type\n",
    "# function with argument and return without type\n",
    "# function without  argument and with return type\n",
    "# function with argument and with return type"
   ]
  },
  {
   "cell_type": "code",
   "execution_count": 3,
   "id": "f3f15342",
   "metadata": {},
   "outputs": [
    {
     "name": "stdout",
     "output_type": "stream",
     "text": [
      "Enter l  =100\n",
      "Enter b  =34\n",
      "3400\n"
     ]
    }
   ],
   "source": [
    "# function with argument and return without type\n",
    "def cal(l,b):                          #parameter\n",
    "    a = l*b\n",
    "    print(a)\n",
    "\n",
    "l = int(input(\"Enter l  =\"))           #global variable\n",
    "b = int(input(\"Enter b  =\"))           #global variable\n",
    "cal(l,b)                              #calling the function l,b => argument"
   ]
  },
  {
   "cell_type": "code",
   "execution_count": 4,
   "id": "55662254",
   "metadata": {},
   "outputs": [
    {
     "name": "stdout",
     "output_type": "stream",
     "text": [
      "Enter name = Ram\n",
      "Enter age = 78\n",
      "Enter add = Kathmandu\n",
      "Hello world I am Ram. I am from Kathmandu. I am 78\n"
     ]
    }
   ],
   "source": [
    "# function with argument and return without type\n",
    "\n",
    "def info(x,y,z):\n",
    "    print(f\"Hello world I am {x}. I am from {z}. I am {y}\")\n",
    "\n",
    "\n",
    "name = input(\"Enter name = \")\n",
    "age = int(input(\"Enter age = \"))\n",
    "add = input(\"Enter add = \")\n",
    "\n",
    "info(name,age,add)"
   ]
  },
  {
   "cell_type": "code",
   "execution_count": 5,
   "id": "890716e5",
   "metadata": {},
   "outputs": [
    {
     "name": "stdout",
     "output_type": "stream",
     "text": [
      "Hello \n"
     ]
    }
   ],
   "source": [
    "#function without argument and return type\n",
    "def cal():\n",
    "    x = \"Hello \"\n",
    "    return x\n",
    "\n",
    "print(cal())"
   ]
  },
  {
   "cell_type": "code",
   "execution_count": 6,
   "id": "347784e3",
   "metadata": {},
   "outputs": [
    {
     "data": {
      "text/plain": [
       "'Hello World'"
      ]
     },
     "execution_count": 6,
     "metadata": {},
     "output_type": "execute_result"
    }
   ],
   "source": [
    "#function without argument and return type\n",
    "\n",
    "def cal():\n",
    "    x = \"Hello \"\n",
    "    return x\n",
    "\n",
    "y = cal()\n",
    "z = y + \"World\"\n",
    "z"
   ]
  },
  {
   "cell_type": "code",
   "execution_count": null,
   "id": "9e70a25b",
   "metadata": {},
   "outputs": [],
   "source": [
    "# function without argument and with return type\n",
    "def cal():\n",
    "    l = int(input(\"Enter l  =\"))           #local variable\n",
    "    b = int(input(\"Enter b  =\"))           #local variable\n",
    "    a = l*b\n",
    "    return a\n",
    "    \n",
    "ar = cal()\n",
    "h = int(input(\"Enter h = \"))\n",
    "v = ar * h\n",
    "print(v)"
   ]
  },
  {
   "cell_type": "code",
   "execution_count": null,
   "id": "95defe90",
   "metadata": {},
   "outputs": [],
   "source": []
  },
  {
   "cell_type": "code",
   "execution_count": null,
   "id": "020616cf",
   "metadata": {},
   "outputs": [],
   "source": [
    "# function with argument and with return type\n",
    "def cal(l,b):\n",
    "    a = l*b\n",
    "    return a\n",
    "\n",
    "l = int(input(\"Enter l  =\"))           #global variable\n",
    "b = int(input(\"Enter b  =\"))           #global variable\n",
    "\n",
    "ar = cal(l,b)\n",
    "h = int(input(\"Enter h = \"))\n",
    "v = ar * h\n",
    "print(v)"
   ]
  },
  {
   "cell_type": "code",
   "execution_count": 7,
   "id": "e958512c",
   "metadata": {},
   "outputs": [
    {
     "name": "stdout",
     "output_type": "stream",
     "text": [
      "C\n",
      "C++\n",
      "C#\n",
      "Java\n",
      "Python\n"
     ]
    }
   ],
   "source": [
    "# default parameter value\n",
    "def language(lan = \"Python\"):\n",
    "    print(lan)\n",
    "    \n",
    "language(\"C\")\n",
    "language(\"C++\")\n",
    "language(\"C#\")\n",
    "language(\"Java\")\n",
    "language()"
   ]
  },
  {
   "cell_type": "code",
   "execution_count": null,
   "id": "f826163d",
   "metadata": {},
   "outputs": [],
   "source": [
    "# recursive function\n",
    "def hello():\n",
    "    print(\"Hello World\")\n",
    "    \n",
    "    hello()    \n",
    "    \n",
    "hello()"
   ]
  },
  {
   "cell_type": "code",
   "execution_count": 1,
   "id": "497f6293",
   "metadata": {},
   "outputs": [
    {
     "name": "stdout",
     "output_type": "stream",
     "text": [
      "Hello World\n",
      "Enter y for more print. y\n",
      "Hello World\n",
      "Enter y for more print. y\n",
      "Hello World\n",
      "Enter y for more print. y\n",
      "Hello World\n",
      "Enter y for more print. werw\n"
     ]
    }
   ],
   "source": [
    "# recursive function\n",
    "def hello():\n",
    "    print(\"Hello World\")\n",
    "    x = input(\"Enter y for more print. \")\n",
    "    if x == 'y':\n",
    "        hello()    \n",
    "    \n",
    "hello()"
   ]
  },
  {
   "cell_type": "code",
   "execution_count": 2,
   "id": "9c9632d6",
   "metadata": {},
   "outputs": [],
   "source": [
    "# math function"
   ]
  },
  {
   "cell_type": "code",
   "execution_count": 3,
   "id": "15014869",
   "metadata": {},
   "outputs": [
    {
     "name": "stdout",
     "output_type": "stream",
     "text": [
      "3.141592653589793\n"
     ]
    }
   ],
   "source": [
    "import math as m\n",
    "print(m.pi)"
   ]
  },
  {
   "cell_type": "code",
   "execution_count": 4,
   "id": "3e4e11f0",
   "metadata": {},
   "outputs": [
    {
     "name": "stdout",
     "output_type": "stream",
     "text": [
      "2.718281828459045\n"
     ]
    }
   ],
   "source": [
    "print(m.e)"
   ]
  },
  {
   "cell_type": "code",
   "execution_count": 6,
   "id": "d1187990",
   "metadata": {},
   "outputs": [
    {
     "name": "stdout",
     "output_type": "stream",
     "text": [
      "720\n"
     ]
    }
   ],
   "source": [
    "print(m.factorial(6))"
   ]
  },
  {
   "cell_type": "code",
   "execution_count": 9,
   "id": "1b3bf74a",
   "metadata": {},
   "outputs": [
    {
     "name": "stdout",
     "output_type": "stream",
     "text": [
      "1.0\n"
     ]
    }
   ],
   "source": [
    "print(m.sin(m.pi/2))"
   ]
  },
  {
   "cell_type": "code",
   "execution_count": 10,
   "id": "f2a0bde2",
   "metadata": {},
   "outputs": [
    {
     "name": "stdout",
     "output_type": "stream",
     "text": [
      "6.123233995736766e-17\n"
     ]
    }
   ],
   "source": [
    "print(m.cos(m.pi/2))"
   ]
  },
  {
   "cell_type": "code",
   "execution_count": 11,
   "id": "bde37231",
   "metadata": {},
   "outputs": [
    {
     "name": "stdout",
     "output_type": "stream",
     "text": [
      "1.633123935319537e+16\n"
     ]
    }
   ],
   "source": [
    "print(m.tan(m.pi/2))"
   ]
  },
  {
   "cell_type": "code",
   "execution_count": null,
   "id": "ffe95361",
   "metadata": {},
   "outputs": [],
   "source": []
  }
 ],
 "metadata": {
  "kernelspec": {
   "display_name": "Python 3 (ipykernel)",
   "language": "python",
   "name": "python3"
  },
  "language_info": {
   "codemirror_mode": {
    "name": "ipython",
    "version": 3
   },
   "file_extension": ".py",
   "mimetype": "text/x-python",
   "name": "python",
   "nbconvert_exporter": "python",
   "pygments_lexer": "ipython3",
   "version": "3.9.12"
  }
 },
 "nbformat": 4,
 "nbformat_minor": 5
}
