{
 "cells": [
  {
   "cell_type": "code",
   "execution_count": 1,
   "id": "04394ed7",
   "metadata": {},
   "outputs": [],
   "source": [
    "# # Dictionary\n",
    "# Indexing\n",
    "# Multiple and duplicate data\n",
    "# Ordered\n",
    "# Mutable"
   ]
  },
  {
   "cell_type": "code",
   "execution_count": 2,
   "id": "bd1cecca",
   "metadata": {},
   "outputs": [],
   "source": [
    "# d = {<key>:<value>,<key>:<value>,<key>:<value>,<key>:<value>}\n",
    "# d"
   ]
  },
  {
   "cell_type": "code",
   "execution_count": 4,
   "id": "f0724c40",
   "metadata": {},
   "outputs": [
    {
     "name": "stdout",
     "output_type": "stream",
     "text": [
      "{'a': 'Apple', 'b': 'Ball', 'c': 'Cat'}\n",
      "3\n"
     ]
    }
   ],
   "source": [
    "d = {'a':'Apple','b':'Ball','c':'Cat'}\n",
    "print(d)\n",
    "print(len(d))"
   ]
  },
  {
   "cell_type": "code",
   "execution_count": 7,
   "id": "78a256cf",
   "metadata": {},
   "outputs": [
    {
     "name": "stdout",
     "output_type": "stream",
     "text": [
      "Apple\n",
      "Ball\n"
     ]
    }
   ],
   "source": [
    "print(d['a'])\n",
    "print(d['b'])"
   ]
  },
  {
   "cell_type": "code",
   "execution_count": 8,
   "id": "e50f54af",
   "metadata": {},
   "outputs": [
    {
     "data": {
      "text/plain": [
       "{'a': 'Ant', 'b': 'Ball', 'c': 'Cat'}"
      ]
     },
     "execution_count": 8,
     "metadata": {},
     "output_type": "execute_result"
    }
   ],
   "source": [
    "d = {'a':'Apple','b':'Ball','c':'Cat','a':'Ant'}\n",
    "d"
   ]
  },
  {
   "cell_type": "code",
   "execution_count": 9,
   "id": "0f6165fb",
   "metadata": {},
   "outputs": [
    {
     "data": {
      "text/plain": [
       "{'a': 'Apple', 'b': 'Ball', 'c': 'Cat'}"
      ]
     },
     "execution_count": 9,
     "metadata": {},
     "output_type": "execute_result"
    }
   ],
   "source": [
    "d = {}\n",
    "d['a'] = \"Apple\"\n",
    "d['b'] = \"Ball\"\n",
    "d['c'] = \"Cat\"\n",
    "d"
   ]
  },
  {
   "cell_type": "code",
   "execution_count": 10,
   "id": "39ee0617",
   "metadata": {},
   "outputs": [
    {
     "name": "stdout",
     "output_type": "stream",
     "text": [
      "a\n",
      "b\n",
      "c\n"
     ]
    }
   ],
   "source": [
    "for i in d:\n",
    "    print(i)"
   ]
  },
  {
   "cell_type": "code",
   "execution_count": 11,
   "id": "3096b589",
   "metadata": {},
   "outputs": [
    {
     "name": "stdout",
     "output_type": "stream",
     "text": [
      "Apple\n",
      "Ball\n",
      "Cat\n"
     ]
    }
   ],
   "source": [
    "for i in d.values():\n",
    "    print(i)"
   ]
  },
  {
   "cell_type": "code",
   "execution_count": 12,
   "id": "416e52bb",
   "metadata": {},
   "outputs": [
    {
     "name": "stdout",
     "output_type": "stream",
     "text": [
      "('a', 'Apple')\n",
      "('b', 'Ball')\n",
      "('c', 'Cat')\n"
     ]
    }
   ],
   "source": [
    "for i in d.items():\n",
    "    print(i)"
   ]
  },
  {
   "cell_type": "code",
   "execution_count": 13,
   "id": "37bf312c",
   "metadata": {},
   "outputs": [
    {
     "data": {
      "text/plain": [
       "[('a', 'Apple'), ('b', 'Ball'), ('c', 'Cat')]"
      ]
     },
     "execution_count": 13,
     "metadata": {},
     "output_type": "execute_result"
    }
   ],
   "source": [
    "l = []\n",
    "for i in d.items():\n",
    "    l.append(i)\n",
    "l"
   ]
  },
  {
   "cell_type": "code",
   "execution_count": 14,
   "id": "9d51d782",
   "metadata": {},
   "outputs": [
    {
     "data": {
      "text/plain": [
       "{'a': 'Apple', 'b': 'Ball', 'c': 'Cat'}"
      ]
     },
     "execution_count": 14,
     "metadata": {},
     "output_type": "execute_result"
    }
   ],
   "source": [
    "dict(l)"
   ]
  },
  {
   "cell_type": "code",
   "execution_count": 15,
   "id": "61fa13a4",
   "metadata": {},
   "outputs": [
    {
     "name": "stdout",
     "output_type": "stream",
     "text": [
      "Enter n = 2\n",
      "Enter name = Ram\n",
      "Enter phone = 9808778765\n",
      "Enter name = Shyam\n",
      "Enter phone = 9808778765\n",
      "{'Ram': '9808778765', 'Shyam': '9808778765'}\n"
     ]
    }
   ],
   "source": [
    "# WAP to create a dict taking values from user\n",
    "d = {}\n",
    "n = int(input(\"Enter n = \"))\n",
    "for i in range(n):\n",
    "    name = input(\"Enter name = \")\n",
    "    phone = input(\"Enter phone = \")\n",
    "    d[name] = phone\n",
    "    \n",
    "print(d)"
   ]
  },
  {
   "cell_type": "code",
   "execution_count": 16,
   "id": "02759d08",
   "metadata": {},
   "outputs": [],
   "source": [
    "# No + *"
   ]
  },
  {
   "cell_type": "code",
   "execution_count": 18,
   "id": "adf802ef",
   "metadata": {},
   "outputs": [
    {
     "data": {
      "text/plain": [
       "{'Ram': '9808778765',\n",
       " 'Shyam': '9808778765',\n",
       " 'Hari': 9878778765,\n",
       " 'Sameer': 980878765}"
      ]
     },
     "execution_count": 18,
     "metadata": {},
     "output_type": "execute_result"
    }
   ],
   "source": [
    "a = {'Ram': '9808778765', 'Shyam': '9808778765'}\n",
    "b = {'Hari':9878778765,'Sameer':980878765}\n",
    "a.update(b)\n",
    "a"
   ]
  },
  {
   "cell_type": "code",
   "execution_count": 20,
   "id": "876375ff",
   "metadata": {},
   "outputs": [
    {
     "data": {
      "text/plain": [
       "{'Ram': 9878776765,\n",
       " 'Shyam': '9808778765',\n",
       " 'Hari': 9878778765,\n",
       " 'Sameer': 980878765}"
      ]
     },
     "execution_count": 20,
     "metadata": {},
     "output_type": "execute_result"
    }
   ],
   "source": [
    "# Update\n",
    "d = {'Ram': '9808778765','Shyam': '9808778765','Hari': 9878778765,\n",
    "     'Sameer': 980878765}\n",
    "d['Ram'] = 9878776765\n",
    "d"
   ]
  },
  {
   "cell_type": "code",
   "execution_count": 21,
   "id": "c243c0db",
   "metadata": {},
   "outputs": [
    {
     "data": {
      "text/plain": [
       "{'Ram': '9808778765',\n",
       " 'Shyam': '9808778765',\n",
       " 'Hari': 9878778765,\n",
       " 'Sameer': 980878765,\n",
       " 'Rama': 9878776765}"
      ]
     },
     "execution_count": 21,
     "metadata": {},
     "output_type": "execute_result"
    }
   ],
   "source": [
    "# Add\n",
    "d = {'Ram': '9808778765','Shyam': '9808778765','Hari': 9878778765,\n",
    "     'Sameer': 980878765}\n",
    "d['Rama'] = 9878776765\n",
    "d"
   ]
  },
  {
   "cell_type": "code",
   "execution_count": 22,
   "id": "98de1a51",
   "metadata": {},
   "outputs": [
    {
     "data": {
      "text/plain": [
       "{'Shyam': '9808778765', 'Hari': 9878778765, 'Sameer': 980878765}"
      ]
     },
     "execution_count": 22,
     "metadata": {},
     "output_type": "execute_result"
    }
   ],
   "source": [
    "# delete (del pop)\n",
    "d = {'Ram': '9808778765','Shyam': '9808778765','Hari': 9878778765,\n",
    "     'Sameer': 980878765}\n",
    "del d['Ram']\n",
    "d"
   ]
  },
  {
   "cell_type": "code",
   "execution_count": 23,
   "id": "5cbdd697",
   "metadata": {},
   "outputs": [
    {
     "name": "stdout",
     "output_type": "stream",
     "text": [
      "{'Shyam': '9808778765', 'Hari': 9878778765, 'Sameer': 980878765}\n",
      "9808778765\n"
     ]
    }
   ],
   "source": [
    "d = {'Ram': '9808778765','Shyam': '9808778765','Hari': 9878778765,\n",
    "     'Sameer': 980878765}\n",
    "b = d.pop('Ram')\n",
    "print(d)\n",
    "print(b)"
   ]
  },
  {
   "cell_type": "code",
   "execution_count": 24,
   "id": "dc2c831a",
   "metadata": {},
   "outputs": [
    {
     "name": "stdout",
     "output_type": "stream",
     "text": [
      "{'Shyam': [9867556543, 9808445432], 'Hari': [9843556543, 9808667654], 'Sameer': [9845667654, 9808778765]}\n"
     ]
    }
   ],
   "source": [
    "#list inside dict\n",
    "d = {'Shyam': [9867556543,9808445432],\n",
    "     'Hari': [9843556543,9808667654],\n",
    "     'Sameer': [9845667654,9808778765]}\n",
    "print(d)"
   ]
  },
  {
   "cell_type": "code",
   "execution_count": 25,
   "id": "21cc0b21",
   "metadata": {},
   "outputs": [
    {
     "name": "stdout",
     "output_type": "stream",
     "text": [
      "Enter n = 2\n",
      "Enter name = Ram\n",
      "Enter ntc_name = 9845665432\n",
      "Enter ncell no = 9808778765\n",
      "Enter name = Shyam\n",
      "Enter ntc_name = 9845665434\n",
      "Enter ncell no = 9808667654\n"
     ]
    },
    {
     "data": {
      "text/plain": [
       "{'Ram': [9845665432, 9808778765], 'Shyam': [9845665434, 9808667654]}"
      ]
     },
     "execution_count": 25,
     "metadata": {},
     "output_type": "execute_result"
    }
   ],
   "source": [
    "d = {}\n",
    "n = int(input(\"Enter n = \"))\n",
    "for i in range(n):\n",
    "    name = input(\"Enter name = \")\n",
    "    ntc_no = int(input(\"Enter ntc_name = \"))\n",
    "    ncell_no = int(input(\"Enter ncell no = \"))\n",
    "    d[name] = [ntc_no,ncell_no]\n",
    "    \n",
    "d"
   ]
  },
  {
   "cell_type": "code",
   "execution_count": 29,
   "id": "e1b5f48a",
   "metadata": {
    "scrolled": true
   },
   "outputs": [
    {
     "name": "stdout",
     "output_type": "stream",
     "text": [
      "[9845665432, 9808778765]\n",
      "NTC no of Ram 9845665432\n",
      "NCELL no of Ram 9808778765\n"
     ]
    }
   ],
   "source": [
    "#Read\n",
    "print(d['Ram'])\n",
    "print(\"NTC no of Ram\",d['Ram'][0])\n",
    "print(\"NCELL no of Ram\",d['Ram'][1])"
   ]
  },
  {
   "cell_type": "code",
   "execution_count": 30,
   "id": "83958a69",
   "metadata": {},
   "outputs": [
    {
     "data": {
      "text/plain": [
       "{'Ram': [9840000000, 9808778765], 'Shyam': [9845665434, 9808667654]}"
      ]
     },
     "execution_count": 30,
     "metadata": {},
     "output_type": "execute_result"
    }
   ],
   "source": [
    "#Update\n",
    "d['Ram'][0] = 9840000000\n",
    "d"
   ]
  },
  {
   "cell_type": "code",
   "execution_count": 31,
   "id": "b4618ffb",
   "metadata": {},
   "outputs": [
    {
     "data": {
      "text/plain": [
       "{'Ram': [9808778765], 'Shyam': [9845665434, 9808667654]}"
      ]
     },
     "execution_count": 31,
     "metadata": {},
     "output_type": "execute_result"
    }
   ],
   "source": [
    "# delete\n",
    "del d['Ram'][0]\n",
    "d"
   ]
  },
  {
   "cell_type": "code",
   "execution_count": 32,
   "id": "069622b1",
   "metadata": {},
   "outputs": [
    {
     "data": {
      "text/plain": [
       "[{'name': 'Ram', 'age': 34, 'add': 'Kathmandu'},\n",
       " {'name': 'Shyam', 'age': 44, 'add': 'Bhaktapur'},\n",
       " {'name': 'Hari', 'age': 24, 'add': 'Lalitpur'}]"
      ]
     },
     "execution_count": 32,
     "metadata": {},
     "output_type": "execute_result"
    }
   ],
   "source": [
    "# dict inside list\n",
    "d = [{'name':'Ram','age':34,'add':'Kathmandu'},\n",
    "    {'name':'Shyam','age':44,'add':'Bhaktapur'},\n",
    "    {'name':'Hari','age':24,'add':'Lalitpur'}]\n",
    "d"
   ]
  },
  {
   "cell_type": "code",
   "execution_count": 33,
   "id": "2f404ed8",
   "metadata": {},
   "outputs": [
    {
     "name": "stdout",
     "output_type": "stream",
     "text": [
      "Enter n = 2\n",
      "Enter name = Ram\n",
      "Enter age = 78\n",
      "Enter add = Kathmandu\n",
      "Enter name = Shyam\n",
      "Enter age = 89\n",
      "Enter add = Bhaktapur\n",
      "[{'name': 'Ram', 'age': 78, 'add': 'Kathmandu'}, {'name': 'Shyam', 'age': 89, 'add': 'Bhaktapur'}]\n"
     ]
    }
   ],
   "source": [
    "l = []\n",
    "n = int(input(\"Enter n = \"))\n",
    "for i in range(n):\n",
    "    name = input(\"Enter name = \")\n",
    "    age = int(input(\"Enter age = \"))\n",
    "    add = input(\"Enter add = \")\n",
    "    d = {'name':name,'age':age,'add':add}\n",
    "    l.append(d)\n",
    "print(l)"
   ]
  },
  {
   "cell_type": "code",
   "execution_count": 39,
   "id": "1e26b0c8",
   "metadata": {},
   "outputs": [
    {
     "name": "stdout",
     "output_type": "stream",
     "text": [
      "{'name': 'Ram', 'age': 78, 'add': 'Kathmandu'}\n"
     ]
    }
   ],
   "source": [
    "#read\n",
    "print(l[0])"
   ]
  },
  {
   "cell_type": "code",
   "execution_count": 41,
   "id": "0a37e5d4",
   "metadata": {},
   "outputs": [
    {
     "data": {
      "text/plain": [
       "[{'name': 'Rama', 'age': 78, 'add': 'Kathmandu'},\n",
       " {'name': 'Shyam', 'age': 89, 'add': 'Bhaktapur'}]"
      ]
     },
     "execution_count": 41,
     "metadata": {},
     "output_type": "execute_result"
    }
   ],
   "source": [
    "#Update\n",
    "l[0]['name'] = \"Rama\"\n",
    "l"
   ]
  },
  {
   "cell_type": "code",
   "execution_count": 42,
   "id": "d1479754",
   "metadata": {},
   "outputs": [
    {
     "data": {
      "text/plain": [
       "[{'name': 'Rama', 'age': 78}, {'name': 'Shyam', 'age': 89, 'add': 'Bhaktapur'}]"
      ]
     },
     "execution_count": 42,
     "metadata": {},
     "output_type": "execute_result"
    }
   ],
   "source": [
    "# delete\n",
    "del l[0]['add']\n",
    "l"
   ]
  },
  {
   "cell_type": "code",
   "execution_count": 43,
   "id": "42c4c763",
   "metadata": {},
   "outputs": [
    {
     "data": {
      "text/plain": [
       "{1: {'name': 'Rama', 'age': 78, 'add': 'Kathmandu'},\n",
       " 2: {'name': 'Shyam', 'age': 89, 'add': 'Bhaktapur'}}"
      ]
     },
     "execution_count": 43,
     "metadata": {},
     "output_type": "execute_result"
    }
   ],
   "source": [
    "# dict inside dict\n",
    "d = {1:{'name': 'Rama', 'age': 78, 'add': 'Kathmandu'},\n",
    "     2:{'name': 'Shyam', 'age': 89, 'add': 'Bhaktapur'}}\n",
    "d"
   ]
  },
  {
   "cell_type": "code",
   "execution_count": 45,
   "id": "8c87aa9d",
   "metadata": {},
   "outputs": [],
   "source": [
    "d = {}\n",
    "n = int(input(\"Enter n = \"))\n",
    "for i in range(1,n+1):\n",
    "    name = input(\"Enter name = \")\n",
    "    age = int(input(\"Enter age = \"))\n",
    "    add = input(\"Enter add = \")\n",
    "    data = {'name':name,'age':age,'add':add}\n",
    "    d[i] = data\n",
    "print(l)"
   ]
  },
  {
   "cell_type": "code",
   "execution_count": null,
   "id": "6e700050",
   "metadata": {},
   "outputs": [],
   "source": [
    "# list inside dict\n",
    "d = {'name':['Ram','Shyam','Hari'],\n",
    "    'age':[45,67,65],\n",
    "    'add':['Bhaktapur','lalitpur','Kathmandu']}"
   ]
  }
 ],
 "metadata": {
  "kernelspec": {
   "display_name": "Python 3 (ipykernel)",
   "language": "python",
   "name": "python3"
  },
  "language_info": {
   "codemirror_mode": {
    "name": "ipython",
    "version": 3
   },
   "file_extension": ".py",
   "mimetype": "text/x-python",
   "name": "python",
   "nbconvert_exporter": "python",
   "pygments_lexer": "ipython3",
   "version": "3.9.12"
  }
 },
 "nbformat": 4,
 "nbformat_minor": 5
}
